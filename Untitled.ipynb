{
 "cells": [
  {
   "cell_type": "code",
   "execution_count": 1,
   "metadata": {},
   "outputs": [],
   "source": [
    "import numpy as np\n",
    "import pandas as pd"
   ]
  },
  {
   "cell_type": "code",
   "execution_count": 2,
   "metadata": {},
   "outputs": [
    {
     "name": "stdout",
     "output_type": "stream",
     "text": [
      "Loading Data...\n"
     ]
    }
   ],
   "source": [
    "# Data load\n",
    "print('Loading Data...')\n",
    "train_activity = pd.read_csv('./train/train_activity.csv', encoding='cp949')\n",
    "train_label = pd.read_csv('./train/train_label.csv', encoding='cp949')\n",
    "train_party = pd.read_csv('./train/train_party.csv', encoding='cp949')\n",
    "train_payment = pd.read_csv('./train/train_payment.csv', encoding='cp949')\n",
    "train_trade = pd.read_csv('./train/train_trade.csv', encoding='cp949')\n",
    "train_guild = pd.read_csv('./train/train_guild.csv', encoding='cp949')\n",
    "\n",
    "test_activity = pd.read_csv('./test/test_activity.csv', encoding='cp949')\n",
    "test_party = pd.read_csv('./test/test_party.csv', encoding='cp949')\n",
    "test_payment = pd.read_csv('./test/test_payment.csv', encoding='cp949')\n",
    "test_trade = pd.read_csv('./test/test_trade.csv', encoding='cp949')\n",
    "test_guild = pd.read_csv('./test/test_guild.csv', encoding='cp949')"
   ]
  },
  {
   "cell_type": "code",
   "execution_count": 3,
   "metadata": {
    "scrolled": true
   },
   "outputs": [],
   "source": [
    "# 'acc_id'가 같은 row들을 하나의 row로 sum\n",
    "# as_index=False  groupby를 할 때 기준이 되는 key가 사라지지 않도록 함.\n",
    "# sort=False groupby 이후 자동정렬하지 않도록 함.\n",
    "train_activity_sum = train_activity.groupby(['acc_id'], as_index=False, sort=False).sum() # 100000 rows × 38 columns\n",
    "train_payment_sum = train_payment.groupby(['acc_id'], as_index=False, sort=False).sum()\n",
    "\n",
    "test_activity_sum = test_activity.groupby(['acc_id'], as_index=False, sort=False).sum() \n",
    "test_payment_sum = test_payment.groupby(['acc_id'], as_index=False, sort=False).sum()"
   ]
  },
  {
   "cell_type": "code",
   "execution_count": 4,
   "metadata": {},
   "outputs": [],
   "source": [
    "train_guild_copy = train_guild.copy()\n",
    "test_guild_copy = test_guild.copy()"
   ]
  },
  {
   "cell_type": "code",
   "execution_count": 5,
   "metadata": {},
   "outputs": [],
   "source": [
    "# Guild에 속한 ID row로 분해\n",
    "# ref: https://stackoverflow.com/questions/38651008/splitting-multiple-columns-into-rows-in-pandas-dataframe\n",
    "train_guild_member = train_guild_copy.guild_member_acc_id.str.split(',', expand=True).stack().str.strip().reset_index(level=1, drop=True)\n",
    "train_guild_member = pd.concat([train_guild_member], axis=1, keys=['acc_id'])\n",
    "\n",
    "test_guild_member = test_guild_copy.guild_member_acc_id.str.split(',', expand=True).stack().str.strip().reset_index(level=1, drop=True)\n",
    "test_guild_member = pd.concat([test_guild_member], axis=1, keys=['acc_id'])"
   ]
  },
  {
   "cell_type": "code",
   "execution_count": 6,
   "metadata": {
    "scrolled": true
   },
   "outputs": [],
   "source": [
    "# 기존의 guild_member_acc_id를 지우고 guild_member의 컬럼들을 추가\n",
    "train_guild_copy = train_guild_copy.drop(['guild_member_acc_id'], axis=1).join(train_guild_member).reset_index(drop=True)\n",
    "\n",
    "test_guild_copy = test_guild_copy.drop(['guild_member_acc_id'], axis=1).join(test_guild_member).reset_index(drop=True)"
   ]
  },
  {
   "cell_type": "code",
   "execution_count": 7,
   "metadata": {},
   "outputs": [],
   "source": [
    "# guild_id = 0: 길드를 가입하지 않은 유저\n",
    "# guild_id = 1: 길드를 가입한 유저\n",
    "train_guild_act = pd.merge(train_guild_copy, train_activity_sum, how='right', sort=False).fillna(0)\n",
    "mask = train_guild_act['guild_id'] != 0\n",
    "column_name = 'guild_id'\n",
    "train_guild_act.loc[mask, column_name] = 1\n",
    "\n",
    "test_guild_act = pd.merge(test_guild_copy, test_activity_sum, how='right', sort=False).fillna(0)\n",
    "mask = test_guild_act['guild_id'] != 0\n",
    "column_name = 'guild_id'\n",
    "test_guild_act.loc[mask, column_name] = 1"
   ]
  },
  {
   "cell_type": "code",
   "execution_count": 8,
   "metadata": {
    "scrolled": true
   },
   "outputs": [],
   "source": [
    "# 하나의 row로 합치기\n",
    "# 길드 소속이 2개 이상인 계정 통합\n",
    "train_guild_act = train_guild_act.groupby(['acc_id'], as_index=False, sort=False).mean()\n",
    "\n",
    "test_guild_act = test_guild_act.groupby(['acc_id'], as_index=False, sort=False).mean()\n",
    "\n",
    "# guild_id -> guild  column 이름 변경\n",
    "train_guild_act = train_guild_act.rename(columns={'guild_id': 'guild'})\n",
    "test_guild_act = test_guild_act.rename(columns={'guild_id': 'guild'})"
   ]
  },
  {
   "cell_type": "code",
   "execution_count": 9,
   "metadata": {
    "scrolled": true
   },
   "outputs": [],
   "source": [
    "# 길드에 소속된 계정만 출력\n",
    "# train_guild_act.loc[train_guild_act['guild'] == 0]"
   ]
  },
  {
   "cell_type": "code",
   "execution_count": 10,
   "metadata": {
    "scrolled": true
   },
   "outputs": [],
   "source": [
    "# test_guild_act.loc[test_guild_act['guild'] == 0]"
   ]
  },
  {
   "cell_type": "code",
   "execution_count": 11,
   "metadata": {
    "scrolled": true
   },
   "outputs": [],
   "source": [
    "# payment 테이블 merge\n",
    "train_data = pd.merge(train_guild_act, train_payment_sum, how='outer', sort=False)\n",
    "\n",
    "test_data = pd.merge(test_guild_act, test_payment_sum, how='outer', sort=False)"
   ]
  },
  {
   "cell_type": "code",
   "execution_count": 12,
   "metadata": {},
   "outputs": [],
   "source": [
    "# train label file encoding (scikit learn Label Encoding은 자동정렬을 하기 때문에 사용하지 않음)\n",
    "# ref: https://stackoverflow.com/questions/42196589/any-way-to-get-mappings-of-a-label-encoder-in-python-pandas\n",
    "# train_label_en = pd.DataFrame({'label':pd.Categorical(train_label.label,  ['week', 'month', '2month', 'retained']).labels, 'acc_id':train_label.acc_id})\n",
    "# print(train_label_en)"
   ]
  },
  {
   "cell_type": "code",
   "execution_count": 13,
   "metadata": {},
   "outputs": [],
   "source": [
    "from sklearn.preprocessing import OneHotEncoder, LabelEncoder"
   ]
  },
  {
   "cell_type": "code",
   "execution_count": 14,
   "metadata": {},
   "outputs": [],
   "source": [
    "# Encoding 부분\n",
    "# Onehot Encoding을 위해 Int 형으로 데이터 변환\n",
    "label_encoder = LabelEncoder()\n",
    "int_encoded = label_encoder.fit_transform(train_label.label)\n",
    "# shape 모양 형태 변환 (#data,) -> (#data,1)\n",
    "int_encoded = int_encoded.reshape(len(int_encoded),1)"
   ]
  },
  {
   "cell_type": "code",
   "execution_count": 15,
   "metadata": {},
   "outputs": [],
   "source": [
    "onthot_encoder = OneHotEncoder(sparse=False)\n",
    "onehot_encoded = onthot_encoder.fit_transform(int_encoded)"
   ]
  },
  {
   "cell_type": "code",
   "execution_count": 16,
   "metadata": {
    "scrolled": true
   },
   "outputs": [],
   "source": [
    "train_label_en = pd.concat([train_label, pd.DataFrame(onehot_encoded, columns=['2month', 'month', 'retained', 'week'])], axis=1)\n",
    "train_label_en = train_label_en.drop(columns=['label'])"
   ]
  },
  {
   "cell_type": "markdown",
   "metadata": {},
   "source": [
    "pd.merge(train_data, train_label, sort=False)\n",
    "pd.merge(train_data, train_label_en, sort=False)\n",
    "두 개 비교를 통해서 레이블이 제대로 인코딩 되었는지 확인할 수 있음"
   ]
  },
  {
   "cell_type": "code",
   "execution_count": 17,
   "metadata": {
    "scrolled": true
   },
   "outputs": [],
   "source": [
    "#pd.merge(train_data, train_label, sort=False)"
   ]
  },
  {
   "cell_type": "code",
   "execution_count": 18,
   "metadata": {
    "scrolled": true
   },
   "outputs": [],
   "source": [
    "#pd.merge(train_data, train_label_en, sort=False)"
   ]
  },
  {
   "cell_type": "code",
   "execution_count": 19,
   "metadata": {
    "scrolled": true
   },
   "outputs": [],
   "source": [
    "train_data = pd.merge(train_data, train_label_en, sort=False)"
   ]
  },
  {
   "cell_type": "code",
   "execution_count": 20,
   "metadata": {
    "scrolled": true
   },
   "outputs": [],
   "source": [
    "# duel ratio: 승 / 참여 횟수\n",
    "train_data['duel_winRatio'] = train_data['duel_win'] / train_data['duel_cnt']\n",
    "train_data = train_data.drop(columns=['duel_win', 'duel_cnt'])\n",
    "\n",
    "test_data['duel_winRatio'] = test_data['duel_win'] / test_data['duel_cnt']\n",
    "test_data = test_data.drop(columns=['duel_win', 'duel_cnt'])"
   ]
  },
  {
   "cell_type": "code",
   "execution_count": 21,
   "metadata": {
    "scrolled": true
   },
   "outputs": [],
   "source": [
    "# partybattle ratio: 승 / 참여 횟수\n",
    "train_data['partybattle_winRatio'] = train_data['partybattle_win'] / train_data['partybattle_cnt']\n",
    "train_data = train_data.drop(columns=['partybattle_win', 'partybattle_cnt'])\n",
    "\n",
    "test_data['partybattle_winRatio'] = test_data['partybattle_win'] / test_data['partybattle_cnt']\n",
    "test_data = test_data.drop(columns=['partybattle_win', 'partybattle_cnt'])"
   ]
  },
  {
   "cell_type": "code",
   "execution_count": 22,
   "metadata": {},
   "outputs": [],
   "source": [
    "# solo clear ratio: 완료 횟수 / 입장 횟수\n",
    "train_data['inzone_solo_clearRatio'] = train_data['cnt_clear_inzone_solo'] / train_data['cnt_enter_inzone_solo']\n",
    "train_data = train_data.drop(columns=['cnt_clear_inzone_solo', 'cnt_enter_inzone_solo'])\n",
    "\n",
    "test_data['inzone_solo_clearRatio'] = test_data['cnt_clear_inzone_solo'] / test_data['cnt_enter_inzone_solo']\n",
    "test_data = test_data.drop(columns=['cnt_clear_inzone_solo', 'cnt_enter_inzone_solo'])"
   ]
  },
  {
   "cell_type": "code",
   "execution_count": 23,
   "metadata": {},
   "outputs": [],
   "source": [
    "# light clear ratio: 완료 횟수 / 입장 횟수\n",
    "train_data['inzone_light_clearRatio'] = train_data['cnt_clear_inzone_light'] / train_data['cnt_enter_inzone_light']\n",
    "train_data = train_data.drop(columns=['cnt_clear_inzone_light', 'cnt_enter_inzone_light'])\n",
    "\n",
    "test_data['inzone_light_clearRatio'] = test_data['cnt_clear_inzone_light'] / test_data['cnt_enter_inzone_light']\n",
    "test_data = test_data.drop(columns=['cnt_clear_inzone_light', 'cnt_enter_inzone_light'])"
   ]
  },
  {
   "cell_type": "code",
   "execution_count": 24,
   "metadata": {},
   "outputs": [],
   "source": [
    "# skilled clear ratio: 완료 횟수 / 입장 횟수\n",
    "train_data['inzone_skilled_clearRatio'] = train_data['cnt_clear_inzone_skilled'] / train_data['cnt_enter_inzone_skilled']\n",
    "train_data = train_data.drop(columns=['cnt_clear_inzone_skilled', 'cnt_enter_inzone_skilled'])\n",
    "\n",
    "test_data['inzone_skilled_clearRatio'] = test_data['cnt_clear_inzone_skilled'] / test_data['cnt_enter_inzone_skilled']\n",
    "test_data = test_data.drop(columns=['cnt_clear_inzone_skilled', 'cnt_enter_inzone_skilled'])"
   ]
  },
  {
   "cell_type": "code",
   "execution_count": 25,
   "metadata": {},
   "outputs": [],
   "source": [
    "# normal clear ratio: 완료 횟수 / 입장 횟수\n",
    "train_data['inzone_skilled_clearRatio'] = train_data['cnt_clear_inzone_normal'] / train_data['cnt_enter_inzone_normal']\n",
    "train_data = train_data.drop(columns=['cnt_clear_inzone_normal', 'cnt_enter_inzone_normal'])\n",
    "\n",
    "test_data['inzone_skilled_clearRatio'] = test_data['cnt_clear_inzone_normal'] / test_data['cnt_enter_inzone_normal']\n",
    "test_data = test_data.drop(columns=['cnt_clear_inzone_normal', 'cnt_enter_inzone_normal'])"
   ]
  },
  {
   "cell_type": "code",
   "execution_count": 26,
   "metadata": {},
   "outputs": [],
   "source": [
    "# raid clear ratio: 완료 횟수 / 입장 횟수\n",
    "train_data['raid_clearRatio'] = train_data['cnt_clear_raid'] / train_data['cnt_enter_raid']\n",
    "train_data = train_data.drop(columns=['cnt_clear_raid', 'cnt_enter_raid'])\n",
    "\n",
    "test_data['raid_clearRatio'] = test_data['cnt_clear_raid'] / test_data['cnt_enter_raid']\n",
    "test_data = test_data.drop(columns=['cnt_clear_raid', 'cnt_enter_raid'])"
   ]
  },
  {
   "cell_type": "code",
   "execution_count": 27,
   "metadata": {},
   "outputs": [],
   "source": [
    "# raid light clear ratio: 완료 횟수 / 입장 횟수\n",
    "train_data['raid_light_clearRatio'] = train_data['cnt_clear_raid_light'] / train_data['cnt_enter_raid_light']\n",
    "train_data = train_data.drop(columns=['cnt_clear_raid_light', 'cnt_enter_raid_light'])\n",
    "\n",
    "test_data['raid_light_clearRatio'] = test_data['cnt_clear_raid_light'] / test_data['cnt_enter_raid_light']\n",
    "test_data = test_data.drop(columns=['cnt_clear_raid_light', 'cnt_enter_raid_light'])"
   ]
  },
  {
   "cell_type": "code",
   "execution_count": 28,
   "metadata": {},
   "outputs": [],
   "source": [
    "# bam clear ratio: 완료 횟수 / 입장 횟수\n",
    "train_data['bam_clearRatio'] = train_data['cnt_clear_bam'] / train_data['cnt_enter_bam']\n",
    "train_data = train_data.drop(columns=['cnt_clear_bam', 'cnt_enter_bam'])\n",
    "\n",
    "test_data['bam_clearRatio'] = test_data['cnt_clear_bam'] / test_data['cnt_enter_bam']\n",
    "test_data = test_data.drop(columns=['cnt_clear_bam', 'cnt_enter_bam'])"
   ]
  },
  {
   "cell_type": "code",
   "execution_count": 29,
   "metadata": {},
   "outputs": [],
   "source": [
    "# chat: 모든 채팅 횟수의 합\n",
    "train_data['chat'] = train_data['normal_chat'] + train_data['whisper_chat'] + train_data['district_chat'] + train_data['party_chat'] + train_data['guild_chat'] + train_data['faction_chat']\n",
    "train_data = train_data.drop(columns=['normal_chat', 'whisper_chat', 'district_chat', 'party_chat', 'guild_chat', 'faction_chat'])\n",
    "\n",
    "test_data['chat'] = test_data['normal_chat'] + test_data['whisper_chat'] + test_data['district_chat'] + test_data['party_chat'] + test_data['guild_chat'] + test_data['faction_chat']\n",
    "test_data = test_data.drop(columns=['normal_chat', 'whisper_chat', 'district_chat', 'party_chat', 'guild_chat', 'faction_chat'])"
   ]
  },
  {
   "cell_type": "code",
   "execution_count": 30,
   "metadata": {},
   "outputs": [],
   "source": [
    "# wk 활동 시기 삭제\n",
    "train_data = train_data.drop(columns=['wk'])\n",
    "test_data = test_data.drop(columns=['wk'])"
   ]
  },
  {
   "cell_type": "code",
   "execution_count": 31,
   "metadata": {},
   "outputs": [],
   "source": [
    "# exp: 모든 경험치의 합\n",
    "train_data['exp'] = train_data['npc_exp'] + train_data['npc_hongmun'] + train_data['quest_exp'] + train_data['quest_hongmun'] + train_data['item_hongmun']\n",
    "train_data = train_data.drop(columns=['npc_exp', 'npc_hongmun', 'quest_exp', 'quest_hongmun', 'item_hongmun'])\n",
    "\n",
    "test_data['exp'] = test_data['npc_exp'] + test_data['npc_hongmun'] + test_data['quest_exp'] + test_data['quest_hongmun'] + test_data['item_hongmun']\n",
    "test_data = test_data.drop(columns=['npc_exp', 'npc_hongmun', 'quest_exp', 'quest_hongmun', 'item_hongmun'])"
   ]
  },
  {
   "cell_type": "code",
   "execution_count": 32,
   "metadata": {},
   "outputs": [],
   "source": [
    "# play_time / cnt_dt  하루 평균 게임 이용 시간 ( 데이터 비교해보기 )\n"
   ]
  },
  {
   "cell_type": "code",
   "execution_count": 33,
   "metadata": {},
   "outputs": [
    {
     "name": "stdout",
     "output_type": "stream",
     "text": [
      "25\n",
      "21\n"
     ]
    }
   ],
   "source": [
    "print(len(train_data.columns)) # label 수 4개\n",
    "print(len(test_data.columns))"
   ]
  },
  {
   "cell_type": "code",
   "execution_count": 34,
   "metadata": {},
   "outputs": [],
   "source": [
    " import matplotlib.pyplot as plt"
   ]
  },
  {
   "cell_type": "code",
   "execution_count": 35,
   "metadata": {},
   "outputs": [
    {
     "data": {
      "text/plain": [
       "<matplotlib.axes._subplots.AxesSubplot at 0x7ff6887a96d8>"
      ]
     },
     "execution_count": 35,
     "metadata": {},
     "output_type": "execute_result"
    },
    {
     "data": {
      "image/png": "[encoded data removed]",
      "text/plain": [
       "<Figure size 432x288 with 1 Axes>"
      ]
     },
     "metadata": {},
     "output_type": "display_data"
    }
   ],
   "source": [
    "# 데이터 형태 그래프로 확인 후 전처리 작업\n",
    "plt.figure();\n",
    "train_data[['cnt_dt', 'play_time', 'game_combat_time']].boxplot()"
   ]
  },
  {
   "cell_type": "code",
   "execution_count": 36,
   "metadata": {},
   "outputs": [
    {
     "data": {
      "text/plain": [
       "<matplotlib.axes._subplots.AxesSubplot at 0x7ff688713240>"
      ]
     },
     "execution_count": 36,
     "metadata": {},
     "output_type": "execute_result"
    },
    {
     "data": {
      "image/png": "[encoded data removed]",
      "text/plain": [
       "<Figure size 432x288 with 1 Axes>"
      ]
     },
     "metadata": {},
     "output_type": "display_data"
    }
   ],
   "source": [
    "train_data[[ 'get_money', 'cnt_use_buffitem', 'gathering_cnt', 'making_cnt']].boxplot()"
   ]
  },
  {
   "cell_type": "code",
   "execution_count": 37,
   "metadata": {},
   "outputs": [
    {
     "data": {
      "text/plain": [
       "<matplotlib.axes._subplots.AxesSubplot at 0x7ff6886b0ba8>"
      ]
     },
     "execution_count": 37,
     "metadata": {},
     "output_type": "execute_result"
    },
    {
     "data": {
      "image/png": "[encoded data removed]",
      "text/plain": [
       "<Figure size 432x288 with 1 Axes>"
      ]
     },
     "metadata": {},
     "output_type": "display_data"
    }
   ],
   "source": [
    "train_data[[ 'payment_week', 'payment_amount', 'duel_winRatio']].boxplot()"
   ]
  },
  {
   "cell_type": "code",
   "execution_count": 38,
   "metadata": {},
   "outputs": [
    {
     "data": {
      "text/plain": [
       "<matplotlib.axes._subplots.AxesSubplot at 0x7ff68860c080>"
      ]
     },
     "execution_count": 38,
     "metadata": {},
     "output_type": "execute_result"
    },
    {
     "data": {
      "image/png": "[encoded data removed]",
      "text/plain": [
       "<Figure size 432x288 with 1 Axes>"
      ]
     },
     "metadata": {},
     "output_type": "display_data"
    }
   ],
   "source": [
    "train_data[['partybattle_winRatio', 'inzone_solo_clearRatio', 'inzone_light_clearRatio', 'inzone_skilled_clearRatio',]].boxplot()"
   ]
  },
  {
   "cell_type": "code",
   "execution_count": 39,
   "metadata": {},
   "outputs": [
    {
     "data": {
      "text/plain": [
       "<matplotlib.axes._subplots.AxesSubplot at 0x7ff6885e9cc0>"
      ]
     },
     "execution_count": 39,
     "metadata": {},
     "output_type": "execute_result"
    },
    {
     "data": {
      "image/png": "[encoded data removed]",
      "text/plain": [
       "<Figure size 432x288 with 1 Axes>"
      ]
     },
     "metadata": {},
     "output_type": "display_data"
    }
   ],
   "source": [
    "train_data[['raid_clearRatio', 'raid_light_clearRatio']].boxplot()"
   ]
  },
  {
   "cell_type": "code",
   "execution_count": 40,
   "metadata": {
    "scrolled": false
   },
   "outputs": [
    {
     "data": {
      "text/plain": [
       "<matplotlib.axes._subplots.AxesSubplot at 0x7ff6886b0470>"
      ]
     },
     "execution_count": 40,
     "metadata": {},
     "output_type": "execute_result"
    },
    {
     "data": {
      "image/png": "[encoded data removed]",
      "text/plain": [
       "<Figure size 432x288 with 1 Axes>"
      ]
     },
     "metadata": {},
     "output_type": "display_data"
    }
   ],
   "source": [
    "train_data[['bam_clearRatio', 'chat', 'exp']].boxplot()"
   ]
  },
  {
   "cell_type": "code",
   "execution_count": 41,
   "metadata": {},
   "outputs": [],
   "source": [
    "train_data = train_data[train_data.game_combat_time<50]\n",
    "\n",
    "train_data = train_data[train_data.get_money<200]\n",
    "\n",
    "train_data = train_data[train_data.duel_winRatio<200]\n",
    "train_data = train_data[train_data.duel_winRatio>-200]\n",
    "\n",
    "train_data = train_data[train_data.inzone_light_clearRatio<200]\n",
    "\n",
    "train_data = train_data[train_data.inzone_skilled_clearRatio<200]\n",
    "train_data = train_data[train_data.inzone_skilled_clearRatio>-200]\n",
    "\n",
    "\n",
    "train_data = train_data[train_data.inzone_light_clearRatio<200]\n",
    "\n",
    "train_data = train_data[train_data.raid_clearRatio<50]\n",
    "train_data = train_data[train_data.raid_clearRatio>-50]\n",
    "\n",
    "train_data = train_data[train_data.raid_light_clearRatio<50]\n",
    "\n",
    "train_data = train_data[train_data.chat<500]\n",
    "\n",
    "train_data = train_data[train_data.raid_light_clearRatio<500]\n"
   ]
  },
  {
   "cell_type": "code",
   "execution_count": 42,
   "metadata": {},
   "outputs": [
    {
     "data": {
      "text/plain": [
       "<matplotlib.axes._subplots.AxesSubplot at 0x7ff688574278>"
      ]
     },
     "execution_count": 42,
     "metadata": {},
     "output_type": "execute_result"
    },
    {
     "data": {
      "image/png": "[encoded data removed]",
      "text/plain": [
       "<Figure size 432x288 with 1 Axes>"
      ]
     },
     "metadata": {},
     "output_type": "display_data"
    }
   ],
   "source": [
    "# 데이터 형태 그래프로 확인 후 전처리 작업\n",
    "plt.figure();\n",
    "train_data[['guild', 'cnt_dt', 'play_time', 'game_combat_time']].boxplot()"
   ]
  },
  {
   "cell_type": "code",
   "execution_count": 43,
   "metadata": {},
   "outputs": [
    {
     "data": {
      "text/plain": [
       "<matplotlib.axes._subplots.AxesSubplot at 0x7ff6885a9b00>"
      ]
     },
     "execution_count": 43,
     "metadata": {},
     "output_type": "execute_result"
    },
    {
     "data": {
      "image/png": "[encoded data removed]",
      "text/plain": [
       "<Figure size 432x288 with 1 Axes>"
      ]
     },
     "metadata": {},
     "output_type": "display_data"
    }
   ],
   "source": [
    "train_data[[ 'get_money', 'cnt_use_buffitem', 'gathering_cnt', 'making_cnt']].boxplot()"
   ]
  },
  {
   "cell_type": "code",
   "execution_count": 44,
   "metadata": {},
   "outputs": [
    {
     "data": {
      "text/plain": [
       "<matplotlib.axes._subplots.AxesSubplot at 0x7ff6884547b8>"
      ]
     },
     "execution_count": 44,
     "metadata": {},
     "output_type": "execute_result"
    },
    {
     "data": {
      "image/png": "[encoded data removed]",
      "text/plain": [
       "<Figure size 432x288 with 1 Axes>"
      ]
     },
     "metadata": {},
     "output_type": "display_data"
    }
   ],
   "source": [
    "train_data[[ 'payment_week', 'payment_amount', 'duel_winRatio']].boxplot()"
   ]
  },
  {
   "cell_type": "code",
   "execution_count": 45,
   "metadata": {},
   "outputs": [
    {
     "data": {
      "text/plain": [
       "<matplotlib.axes._subplots.AxesSubplot at 0x7ff6884207b8>"
      ]
     },
     "execution_count": 45,
     "metadata": {},
     "output_type": "execute_result"
    },
    {
     "data": {
      "image/png": "[encoded data removed]",
      "text/plain": [
       "<Figure size 432x288 with 1 Axes>"
      ]
     },
     "metadata": {},
     "output_type": "display_data"
    }
   ],
   "source": [
    "train_data[['partybattle_winRatio', 'inzone_solo_clearRatio', 'inzone_light_clearRatio', 'inzone_skilled_clearRatio',]].boxplot()"
   ]
  },
  {
   "cell_type": "code",
   "execution_count": 46,
   "metadata": {},
   "outputs": [
    {
     "data": {
      "text/plain": [
       "<matplotlib.axes._subplots.AxesSubplot at 0x7ff688400588>"
      ]
     },
     "execution_count": 46,
     "metadata": {},
     "output_type": "execute_result"
    },
    {
     "data": {
      "image/png": "[encoded data removed]",
      "text/plain": [
       "<Figure size 432x288 with 1 Axes>"
      ]
     },
     "metadata": {},
     "output_type": "display_data"
    }
   ],
   "source": [
    "train_data[[ 'inzone_skilled_clearRatio']].boxplot()"
   ]
  },
  {
   "cell_type": "code",
   "execution_count": 47,
   "metadata": {},
   "outputs": [
    {
     "data": {
      "text/plain": [
       "<matplotlib.axes._subplots.AxesSubplot at 0x7ff6884541d0>"
      ]
     },
     "execution_count": 47,
     "metadata": {},
     "output_type": "execute_result"
    },
    {
     "data": {
      "image/png": "[encoded data removed]",
      "text/plain": [
       "<Figure size 432x288 with 1 Axes>"
      ]
     },
     "metadata": {},
     "output_type": "display_data"
    }
   ],
   "source": [
    "train_data[['raid_clearRatio', 'raid_light_clearRatio']].boxplot()"
   ]
  },
  {
   "cell_type": "code",
   "execution_count": 48,
   "metadata": {
    "scrolled": false
   },
   "outputs": [
    {
     "data": {
      "text/plain": [
       "<matplotlib.axes._subplots.AxesSubplot at 0x7ff688309b70>"
      ]
     },
     "execution_count": 48,
     "metadata": {},
     "output_type": "execute_result"
    },
    {
     "data": {
      "image/png": "[encoded data removed]",
      "text/plain": [
       "<Figure size 432x288 with 1 Axes>"
      ]
     },
     "metadata": {},
     "output_type": "display_data"
    }
   ],
   "source": [
    "train_data[['bam_clearRatio', 'chat', 'exp']].boxplot()"
   ]
  },
  {
   "cell_type": "code",
   "execution_count": 49,
   "metadata": {},
   "outputs": [
    {
     "name": "stderr",
     "output_type": "stream",
     "text": [
      "Using TensorFlow backend.\n"
     ]
    }
   ],
   "source": [
    "import keras\n",
    "from keras import layers, models, metrics, backend as K\n",
    "from keras.callbacks import ReduceLROnPlateau, ModelCheckpoint, EarlyStopping"
   ]
  },
  {
   "cell_type": "code",
   "execution_count": 50,
   "metadata": {},
   "outputs": [],
   "source": [
    "Y = train_data[['2month', 'month', 'retained', 'week']].values\n",
    "x_train_data = train_data.drop(columns=['2month', 'month', 'retained', 'week', 'acc_id'])\n",
    "X = x_train_data.astype('float').values"
   ]
  },
  {
   "cell_type": "code",
   "execution_count": 51,
   "metadata": {},
   "outputs": [],
   "source": [
    "test_acc_id = test_data[['acc_id']]\n",
    "X_test = test_data.drop(columns=['acc_id'])"
   ]
  },
  {
   "cell_type": "code",
   "execution_count": 52,
   "metadata": {},
   "outputs": [
    {
     "data": {
      "text/plain": [
       "array([[0., 0., 1., 0.],\n",
       "       [0., 0., 0., 1.],\n",
       "       [0., 0., 1., 0.],\n",
       "       ...,\n",
       "       [0., 0., 0., 1.],\n",
       "       [0., 0., 0., 1.],\n",
       "       [0., 1., 0., 0.]])"
      ]
     },
     "execution_count": 52,
     "metadata": {},
     "output_type": "execute_result"
    }
   ],
   "source": [
    "Y"
   ]
  },
  {
   "cell_type": "code",
   "execution_count": 54,
   "metadata": {},
   "outputs": [],
   "source": [
    "input_data = layers.Input(shape=(len(X[0]),))\n",
    "x = layers.Dense((512), activation='relu')(input_data)\n",
    "x = layers.Dropout(0.3)(x)\n",
    "x = layers.Dense((512), activation='relu')(x)\n",
    "x = layers.Dropout(0.3)(x)\n",
    "x = layers.Dense((512), activation='relu')(x)\n",
    "x = layers.Dropout(0.3)(x)\n",
    "x = layers.Dense((512), activation='relu')(x)\n",
    "x = layers.Dropout(0.3)(x)\n",
    "output_data = layers.Dense(len(Y[0]), activation='softmax')(x)"
   ]
  },
  {
   "cell_type": "code",
   "execution_count": 55,
   "metadata": {},
   "outputs": [],
   "source": [
    "model = models.Model(inputs=input_data, outputs=output_data)"
   ]
  },
  {
   "cell_type": "code",
   "execution_count": 56,
   "metadata": {},
   "outputs": [],
   "source": [
    "# Hyper Parameters \n",
    "epochs = 100\n",
    "batch_size = 256\n",
    "optimizer = 'adam' "
   ]
  },
  {
   "cell_type": "code",
   "execution_count": 57,
   "metadata": {
    "scrolled": true
   },
   "outputs": [
    {
     "name": "stdout",
     "output_type": "stream",
     "text": [
      "Train on 79946 samples, validate on 19987 samples\n",
      "Epoch 1/100\n",
      "79946/79946 [==============================] - 3s 39us/step - loss: 0.4543 - acc: 0.7929 - val_loss: 0.4187 - val_acc: 0.7900\n",
      "Epoch 2/100\n",
      "79946/79946 [==============================] - 3s 32us/step - loss: 0.4006 - acc: 0.8088 - val_loss: 0.4006 - val_acc: 0.8088\n",
      "Epoch 3/100\n",
      "79946/79946 [==============================] - 3s 32us/step - loss: 0.3894 - acc: 0.8147 - val_loss: 0.3865 - val_acc: 0.8059\n",
      "Epoch 4/100\n",
      "79946/79946 [==============================] - 3s 33us/step - loss: 0.3844 - acc: 0.8158 - val_loss: 0.3949 - val_acc: 0.7881\n",
      "Epoch 5/100\n",
      "79946/79946 [==============================] - 3s 34us/step - loss: 0.3799 - acc: 0.8182 - val_loss: 0.3813 - val_acc: 0.8060\n",
      "Epoch 6/100\n",
      "79946/79946 [==============================] - 3s 33us/step - loss: 0.3782 - acc: 0.8189 - val_loss: 0.3750 - val_acc: 0.8247\n",
      "Epoch 7/100\n",
      "79946/79946 [==============================] - 3s 33us/step - loss: 0.3752 - acc: 0.8208 - val_loss: 0.3780 - val_acc: 0.8248\n",
      "Epoch 8/100\n",
      "79946/79946 [==============================] - 3s 32us/step - loss: 0.3733 - acc: 0.8214 - val_loss: 0.3766 - val_acc: 0.8099\n",
      "Epoch 9/100\n",
      "79946/79946 [==============================] - 3s 32us/step - loss: 0.3728 - acc: 0.8220 - val_loss: 0.3772 - val_acc: 0.7978\n",
      "Epoch 10/100\n",
      "79946/79946 [==============================] - 3s 33us/step - loss: 0.3714 - acc: 0.8230 - val_loss: 0.3709 - val_acc: 0.8201\n",
      "Epoch 11/100\n",
      "79946/79946 [==============================] - 3s 34us/step - loss: 0.3699 - acc: 0.8225 - val_loss: 0.3673 - val_acc: 0.8258\n",
      "Epoch 12/100\n",
      "79946/79946 [==============================] - 3s 33us/step - loss: 0.3688 - acc: 0.8234 - val_loss: 0.3742 - val_acc: 0.8020\n",
      "Epoch 13/100\n",
      "79946/79946 [==============================] - 3s 34us/step - loss: 0.3684 - acc: 0.8241 - val_loss: 0.3691 - val_acc: 0.8052\n",
      "Epoch 14/100\n",
      "79946/79946 [==============================] - 3s 33us/step - loss: 0.3667 - acc: 0.8247 - val_loss: 0.3655 - val_acc: 0.8084\n",
      "Epoch 15/100\n",
      "79946/79946 [==============================] - 3s 33us/step - loss: 0.3675 - acc: 0.8243 - val_loss: 0.3650 - val_acc: 0.8173\n",
      "Epoch 16/100\n",
      "79946/79946 [==============================] - 3s 33us/step - loss: 0.3658 - acc: 0.8251 - val_loss: 0.3656 - val_acc: 0.8261\n",
      "Epoch 17/100\n",
      "79946/79946 [==============================] - 3s 34us/step - loss: 0.3653 - acc: 0.8260 - val_loss: 0.3635 - val_acc: 0.8289\n",
      "Epoch 18/100\n",
      "79946/79946 [==============================] - 3s 34us/step - loss: 0.3646 - acc: 0.8255 - val_loss: 0.3617 - val_acc: 0.8309\n",
      "Epoch 19/100\n",
      "79946/79946 [==============================] - 3s 33us/step - loss: 0.3632 - acc: 0.8258 - val_loss: 0.3625 - val_acc: 0.8105\n",
      "Epoch 20/100\n",
      "79946/79946 [==============================] - 3s 33us/step - loss: 0.3627 - acc: 0.8265 - val_loss: 0.3576 - val_acc: 0.8197\n",
      "Epoch 21/100\n",
      "79946/79946 [==============================] - 3s 33us/step - loss: 0.3624 - acc: 0.8274 - val_loss: 0.3630 - val_acc: 0.8153\n",
      "Epoch 22/100\n",
      "79946/79946 [==============================] - 3s 33us/step - loss: 0.3622 - acc: 0.8264 - val_loss: 0.3615 - val_acc: 0.8174\n",
      "Epoch 23/100\n",
      "79946/79946 [==============================] - 3s 33us/step - loss: 0.3621 - acc: 0.8271 - val_loss: 0.3665 - val_acc: 0.8112\n",
      "Epoch 24/100\n",
      "79946/79946 [==============================] - 3s 33us/step - loss: 0.3614 - acc: 0.8276 - val_loss: 0.3599 - val_acc: 0.8114\n",
      "Epoch 25/100\n",
      "79946/79946 [==============================] - 3s 33us/step - loss: 0.3610 - acc: 0.8269 - val_loss: 0.3591 - val_acc: 0.8289\n",
      "Epoch 26/100\n",
      "79946/79946 [==============================] - 3s 33us/step - loss: 0.3612 - acc: 0.8279 - val_loss: 0.3608 - val_acc: 0.8087\n",
      "Epoch 27/100\n",
      "79946/79946 [==============================] - 3s 33us/step - loss: 0.3599 - acc: 0.8272 - val_loss: 0.3664 - val_acc: 0.7989\n",
      "Epoch 28/100\n",
      "79946/79946 [==============================] - 3s 33us/step - loss: 0.3605 - acc: 0.8279 - val_loss: 0.3582 - val_acc: 0.8123\n",
      "\n",
      "Epoch 00028: ReduceLROnPlateau reducing learning rate to 0.0005000000237487257.\n",
      "Epoch 29/100\n",
      "79946/79946 [==============================] - 3s 34us/step - loss: 0.3536 - acc: 0.8313 - val_loss: 0.3522 - val_acc: 0.8137\n",
      "Epoch 30/100\n",
      "79946/79946 [==============================] - 3s 33us/step - loss: 0.3514 - acc: 0.8310 - val_loss: 0.3547 - val_acc: 0.8116\n",
      "Epoch 31/100\n",
      "79946/79946 [==============================] - 3s 33us/step - loss: 0.3511 - acc: 0.8315 - val_loss: 0.3504 - val_acc: 0.8140\n",
      "Epoch 32/100\n",
      "79946/79946 [==============================] - 3s 34us/step - loss: 0.3504 - acc: 0.8315 - val_loss: 0.3511 - val_acc: 0.8135\n",
      "Epoch 33/100\n",
      "79946/79946 [==============================] - 3s 33us/step - loss: 0.3495 - acc: 0.8325 - val_loss: 0.3474 - val_acc: 0.8370\n",
      "Epoch 34/100\n",
      "79946/79946 [==============================] - 3s 33us/step - loss: 0.3488 - acc: 0.8330 - val_loss: 0.3483 - val_acc: 0.8199\n",
      "Epoch 35/100\n",
      "79946/79946 [==============================] - 3s 33us/step - loss: 0.3484 - acc: 0.8324 - val_loss: 0.3465 - val_acc: 0.8253\n",
      "Epoch 36/100\n",
      "79946/79946 [==============================] - 3s 33us/step - loss: 0.3486 - acc: 0.8329 - val_loss: 0.3491 - val_acc: 0.8145\n",
      "Epoch 37/100\n",
      "79946/79946 [==============================] - 3s 34us/step - loss: 0.3489 - acc: 0.8323 - val_loss: 0.3498 - val_acc: 0.8220\n",
      "Epoch 38/100\n",
      "79946/79946 [==============================] - 3s 34us/step - loss: 0.3485 - acc: 0.8327 - val_loss: 0.3487 - val_acc: 0.8163\n",
      "Epoch 39/100\n",
      "79946/79946 [==============================] - 3s 34us/step - loss: 0.3479 - acc: 0.8332 - val_loss: 0.3452 - val_acc: 0.8345\n",
      "Epoch 40/100\n",
      "79946/79946 [==============================] - 3s 35us/step - loss: 0.3472 - acc: 0.8336 - val_loss: 0.3510 - val_acc: 0.8135\n",
      "Epoch 41/100\n",
      "79946/79946 [==============================] - 3s 34us/step - loss: 0.3471 - acc: 0.8330 - val_loss: 0.3467 - val_acc: 0.8355\n",
      "Epoch 42/100\n",
      "79946/79946 [==============================] - 3s 33us/step - loss: 0.3473 - acc: 0.8338 - val_loss: 0.3533 - val_acc: 0.8098\n",
      "Epoch 43/100\n",
      "79946/79946 [==============================] - 3s 34us/step - loss: 0.3459 - acc: 0.8341 - val_loss: 0.3473 - val_acc: 0.8158\n",
      "\n",
      "Epoch 00043: ReduceLROnPlateau reducing learning rate to 0.0002500000118743628.\n",
      "Epoch 44/100\n",
      "79946/79946 [==============================] - 3s 33us/step - loss: 0.3431 - acc: 0.8347 - val_loss: 0.3469 - val_acc: 0.8124\n",
      "Epoch 45/100\n",
      "79946/79946 [==============================] - 3s 33us/step - loss: 0.3431 - acc: 0.8351 - val_loss: 0.3478 - val_acc: 0.8158\n",
      "Epoch 46/100\n",
      "79946/79946 [==============================] - 3s 35us/step - loss: 0.3423 - acc: 0.8352 - val_loss: 0.3436 - val_acc: 0.8268\n",
      "Epoch 47/100\n",
      "79946/79946 [==============================] - 3s 36us/step - loss: 0.3416 - acc: 0.8353 - val_loss: 0.3472 - val_acc: 0.8165\n",
      "Epoch 48/100\n",
      "79946/79946 [==============================] - 3s 35us/step - loss: 0.3415 - acc: 0.8362 - val_loss: 0.3458 - val_acc: 0.8164\n",
      "Epoch 49/100\n",
      "79946/79946 [==============================] - 3s 32us/step - loss: 0.3417 - acc: 0.8355 - val_loss: 0.3458 - val_acc: 0.8164\n",
      "Epoch 50/100\n",
      "79946/79946 [==============================] - 3s 32us/step - loss: 0.3408 - acc: 0.8365 - val_loss: 0.3420 - val_acc: 0.8358\n",
      "Epoch 51/100\n",
      "79946/79946 [==============================] - 3s 33us/step - loss: 0.3414 - acc: 0.8354 - val_loss: 0.3442 - val_acc: 0.8207\n",
      "Epoch 52/100\n",
      "79946/79946 [==============================] - 3s 35us/step - loss: 0.3403 - acc: 0.8360 - val_loss: 0.3442 - val_acc: 0.8216\n",
      "Epoch 53/100\n",
      "79946/79946 [==============================] - 2s 31us/step - loss: 0.3406 - acc: 0.8362 - val_loss: 0.3435 - val_acc: 0.8209\n",
      "\n",
      "Epoch 00053: ReduceLROnPlateau reducing learning rate to 0.0001250000059371814.\n",
      "Epoch 54/100\n",
      "79946/79946 [==============================] - 3s 32us/step - loss: 0.3391 - acc: 0.8369 - val_loss: 0.3423 - val_acc: 0.8175\n",
      "Epoch 55/100\n",
      "79946/79946 [==============================] - 3s 38us/step - loss: 0.3380 - acc: 0.8377 - val_loss: 0.3408 - val_acc: 0.8215\n",
      "Epoch 56/100\n",
      "79946/79946 [==============================] - 3s 36us/step - loss: 0.3382 - acc: 0.8376 - val_loss: 0.3394 - val_acc: 0.8407\n",
      "Epoch 57/100\n",
      "79946/79946 [==============================] - 2s 31us/step - loss: 0.3379 - acc: 0.8376 - val_loss: 0.3421 - val_acc: 0.8182\n"
     ]
    },
    {
     "name": "stdout",
     "output_type": "stream",
     "text": [
      "Epoch 58/100\n",
      "79946/79946 [==============================] - 3s 32us/step - loss: 0.3372 - acc: 0.8376 - val_loss: 0.3434 - val_acc: 0.8175\n",
      "Epoch 59/100\n",
      "79946/79946 [==============================] - 3s 32us/step - loss: 0.3376 - acc: 0.8373 - val_loss: 0.3412 - val_acc: 0.8217\n",
      "Epoch 60/100\n",
      "79946/79946 [==============================] - 3s 32us/step - loss: 0.3376 - acc: 0.8372 - val_loss: 0.3418 - val_acc: 0.8180\n",
      "Epoch 61/100\n",
      "79946/79946 [==============================] - 3s 32us/step - loss: 0.3375 - acc: 0.8377 - val_loss: 0.3405 - val_acc: 0.8256\n",
      "Epoch 62/100\n",
      "79946/79946 [==============================] - 3s 32us/step - loss: 0.3368 - acc: 0.8378 - val_loss: 0.3416 - val_acc: 0.8176\n",
      "Epoch 63/100\n",
      "79946/79946 [==============================] - 3s 33us/step - loss: 0.3368 - acc: 0.8379 - val_loss: 0.3408 - val_acc: 0.8221\n",
      "Epoch 64/100\n",
      "79946/79946 [==============================] - 3s 33us/step - loss: 0.3367 - acc: 0.8383 - val_loss: 0.3405 - val_acc: 0.8223\n",
      "Epoch 65/100\n",
      "79946/79946 [==============================] - 3s 35us/step - loss: 0.3368 - acc: 0.8383 - val_loss: 0.3408 - val_acc: 0.8224\n",
      "Epoch 66/100\n",
      "79946/79946 [==============================] - 3s 33us/step - loss: 0.3365 - acc: 0.8382 - val_loss: 0.3402 - val_acc: 0.8184\n",
      "\n",
      "Epoch 00066: ReduceLROnPlateau reducing learning rate to 6.25000029685907e-05.\n",
      "Epoch 67/100\n",
      "79946/79946 [==============================] - 3s 33us/step - loss: 0.3355 - acc: 0.8383 - val_loss: 0.3405 - val_acc: 0.8189\n",
      "Epoch 68/100\n",
      "79946/79946 [==============================] - 3s 35us/step - loss: 0.3359 - acc: 0.8383 - val_loss: 0.3392 - val_acc: 0.8289\n",
      "Epoch 69/100\n",
      "79946/79946 [==============================] - 3s 34us/step - loss: 0.3352 - acc: 0.8387 - val_loss: 0.3408 - val_acc: 0.8190\n",
      "Epoch 70/100\n",
      "79946/79946 [==============================] - 3s 33us/step - loss: 0.3354 - acc: 0.8385 - val_loss: 0.3401 - val_acc: 0.8225\n",
      "Epoch 71/100\n",
      "79946/79946 [==============================] - 3s 34us/step - loss: 0.3355 - acc: 0.8381 - val_loss: 0.3407 - val_acc: 0.8186\n",
      "Epoch 72/100\n",
      "79946/79946 [==============================] - 3s 33us/step - loss: 0.3349 - acc: 0.8390 - val_loss: 0.3407 - val_acc: 0.8190\n",
      "Epoch 73/100\n",
      "79946/79946 [==============================] - 3s 34us/step - loss: 0.3345 - acc: 0.8389 - val_loss: 0.3400 - val_acc: 0.8186\n",
      "Epoch 74/100\n",
      "79946/79946 [==============================] - 3s 34us/step - loss: 0.3347 - acc: 0.8390 - val_loss: 0.3401 - val_acc: 0.8228\n",
      "Epoch 75/100\n",
      "79946/79946 [==============================] - 3s 33us/step - loss: 0.3347 - acc: 0.8389 - val_loss: 0.3395 - val_acc: 0.8228\n",
      "Epoch 76/100\n",
      "79946/79946 [==============================] - 3s 33us/step - loss: 0.3342 - acc: 0.8387 - val_loss: 0.3395 - val_acc: 0.8231\n",
      "\n",
      "Epoch 00076: ReduceLROnPlateau reducing learning rate to 3.125000148429535e-05.\n",
      "Epoch 77/100\n",
      "79946/79946 [==============================] - 3s 33us/step - loss: 0.3347 - acc: 0.8389 - val_loss: 0.3398 - val_acc: 0.8190\n",
      "Epoch 78/100\n",
      "79946/79946 [==============================] - 3s 34us/step - loss: 0.3339 - acc: 0.8390 - val_loss: 0.3395 - val_acc: 0.8228\n",
      "Epoch 79/100\n",
      "79946/79946 [==============================] - 3s 33us/step - loss: 0.3337 - acc: 0.8390 - val_loss: 0.3394 - val_acc: 0.8229\n",
      "Epoch 80/100\n",
      "79946/79946 [==============================] - 3s 33us/step - loss: 0.3339 - acc: 0.8389 - val_loss: 0.3398 - val_acc: 0.8190\n",
      "Epoch 81/100\n",
      "79946/79946 [==============================] - 3s 33us/step - loss: 0.3338 - acc: 0.8392 - val_loss: 0.3398 - val_acc: 0.8192\n",
      "Epoch 82/100\n",
      "79946/79946 [==============================] - 3s 33us/step - loss: 0.3338 - acc: 0.8394 - val_loss: 0.3397 - val_acc: 0.8193\n",
      "Epoch 83/100\n",
      "79946/79946 [==============================] - 3s 35us/step - loss: 0.3340 - acc: 0.8392 - val_loss: 0.3395 - val_acc: 0.8190\n"
     ]
    }
   ],
   "source": [
    "model.compile(optimizer=optimizer,\n",
    "                  loss='binary_crossentropy',\n",
    "                  metrics=['accuracy'])\n",
    "\n",
    "learning_rate_reduction = ReduceLROnPlateau(monitor='val_acc', patience=10, verbose=1, factor=0.5, min_lr=0.00000001)\n",
    "\n",
    "callbacks = [\n",
    "    learning_rate_reduction, # learning_rate를 점차 감소시킴으로서 최적값에 접근하는 방식\n",
    "    EarlyStopping('val_loss', patience=15)# val_loss이 최적값에서 멀어지는 순간 epoch가 남아도 학습 중지\n",
    "]\n",
    "\n",
    "history = model.fit(X, Y, epochs=epochs, batch_size=batch_size, callbacks=callbacks, validation_split=0.2 )"
   ]
  },
  {
   "cell_type": "code",
   "execution_count": 58,
   "metadata": {},
   "outputs": [],
   "source": [
    "Y_pred = model.predict(X_test, batch_size=1024)"
   ]
  },
  {
   "cell_type": "code",
   "execution_count": 59,
   "metadata": {},
   "outputs": [
    {
     "name": "stderr",
     "output_type": "stream",
     "text": [
      "/usr/local/lib/python3.5/dist-packages/sklearn/preprocessing/label.py:151: DeprecationWarning: The truth value of an empty array is ambiguous. Returning False, but in future this will result in an error. Use `array.size > 0` to check that an array is not empty.\n",
      "  if diff:\n"
     ]
    }
   ],
   "source": [
    "submission = label_encoder.inverse_transform([np.argmax(Y_pred[:], axis=1)]).reshape((-1,1))"
   ]
  },
  {
   "cell_type": "code",
   "execution_count": 61,
   "metadata": {
    "scrolled": true
   },
   "outputs": [],
   "source": [
    "submission = pd.concat([test_acc_id, pd.DataFrame(submission, columns=['label'])], axis=1)\n",
    "submission.to_csv('./submission.csv', index=False)"
   ]
  },
  {
   "cell_type": "code",
   "execution_count": 62,
   "metadata": {
    "scrolled": true
   },
   "outputs": [
    {
     "data": {
      "text/html": [
       "<div>\n",
       "<style scoped>\n",
       "    .dataframe tbody tr th:only-of-type {\n",
       "        vertical-align: middle;\n",
       "    }\n",
       "\n",
       "    .dataframe tbody tr th {\n",
       "        vertical-align: top;\n",
       "    }\n",
       "\n",
       "    .dataframe thead th {\n",
       "        text-align: right;\n",
       "    }\n",
       "</style>\n",
       "<table border=\"1\" class=\"dataframe\">\n",
       "  <thead>\n",
       "    <tr style=\"text-align: right;\">\n",
       "      <th></th>\n",
       "      <th>acc_id</th>\n",
       "      <th>label</th>\n",
       "    </tr>\n",
       "  </thead>\n",
       "  <tbody>\n",
       "    <tr>\n",
       "      <th>0</th>\n",
       "      <td>fa5e9cb3dadb37c4797ca7785ea99558ebef24bcbbf844...</td>\n",
       "      <td>retained</td>\n",
       "    </tr>\n",
       "    <tr>\n",
       "      <th>1</th>\n",
       "      <td>ab6586a9739bb1644f0178e7b4cac5638c1a74bd79bee7...</td>\n",
       "      <td>retained</td>\n",
       "    </tr>\n",
       "    <tr>\n",
       "      <th>2</th>\n",
       "      <td>5ee147701a3df678ca18f96b9676c01c3a885fd1010699...</td>\n",
       "      <td>retained</td>\n",
       "    </tr>\n",
       "    <tr>\n",
       "      <th>3</th>\n",
       "      <td>36c84995ef772131e89516228ad99051c99f5f6f51d763...</td>\n",
       "      <td>week</td>\n",
       "    </tr>\n",
       "    <tr>\n",
       "      <th>4</th>\n",
       "      <td>5418e41497f5d8a8013ad0ad98275d2126a5c9530cd3fa...</td>\n",
       "      <td>retained</td>\n",
       "    </tr>\n",
       "    <tr>\n",
       "      <th>5</th>\n",
       "      <td>ddd4327ca0426225c900d9a176ed8eb0d047366d935751...</td>\n",
       "      <td>retained</td>\n",
       "    </tr>\n",
       "    <tr>\n",
       "      <th>6</th>\n",
       "      <td>a0714feedb6bfdca4ff1b41cad71cf97a5b1efbb0279c4...</td>\n",
       "      <td>retained</td>\n",
       "    </tr>\n",
       "    <tr>\n",
       "      <th>7</th>\n",
       "      <td>41a4f1cc7559321af79dfbab7fad9ab9b6be317df08ada...</td>\n",
       "      <td>retained</td>\n",
       "    </tr>\n",
       "    <tr>\n",
       "      <th>8</th>\n",
       "      <td>662538b2d503d1da5bcd1a53ecbcffd388766d7d0b0b74...</td>\n",
       "      <td>retained</td>\n",
       "    </tr>\n",
       "    <tr>\n",
       "      <th>9</th>\n",
       "      <td>4fd3e6268fa841d4576252270597b4adaf76c2aec130c1...</td>\n",
       "      <td>retained</td>\n",
       "    </tr>\n",
       "    <tr>\n",
       "      <th>10</th>\n",
       "      <td>6b0c12a8ace2d258fcd8c51ec11e8ba9313b945143fac6...</td>\n",
       "      <td>retained</td>\n",
       "    </tr>\n",
       "    <tr>\n",
       "      <th>11</th>\n",
       "      <td>3344d8ddb46457acba4cf8dc3c075ae084e7c93ad32fb4...</td>\n",
       "      <td>retained</td>\n",
       "    </tr>\n",
       "    <tr>\n",
       "      <th>12</th>\n",
       "      <td>def480074a5f17fbc9f981a22688ebd807b4b826ab1609...</td>\n",
       "      <td>retained</td>\n",
       "    </tr>\n",
       "    <tr>\n",
       "      <th>13</th>\n",
       "      <td>1f27a2b4101a5e0004f51b6f54c46b37bc44c81f553ab1...</td>\n",
       "      <td>retained</td>\n",
       "    </tr>\n",
       "    <tr>\n",
       "      <th>14</th>\n",
       "      <td>4a5e4177c31f352018087eda8b47041903e5d47ae684f2...</td>\n",
       "      <td>week</td>\n",
       "    </tr>\n",
       "    <tr>\n",
       "      <th>15</th>\n",
       "      <td>ae12ce9258bacac3242aaff085dd1f7d0231881aa7105e...</td>\n",
       "      <td>retained</td>\n",
       "    </tr>\n",
       "    <tr>\n",
       "      <th>16</th>\n",
       "      <td>a02138c758ed9bd13a25f22ab92cce40d360226c865e6f...</td>\n",
       "      <td>retained</td>\n",
       "    </tr>\n",
       "    <tr>\n",
       "      <th>17</th>\n",
       "      <td>cdc849cefe8d03027bbb892c654bd18897348b19181826...</td>\n",
       "      <td>retained</td>\n",
       "    </tr>\n",
       "    <tr>\n",
       "      <th>18</th>\n",
       "      <td>d3b1f05374a901b3cd813c660e8ddb6fb7714ac869d368...</td>\n",
       "      <td>retained</td>\n",
       "    </tr>\n",
       "    <tr>\n",
       "      <th>19</th>\n",
       "      <td>c28ef2774a5c706ca1855fc74fdf86ef2c589f93dee671...</td>\n",
       "      <td>retained</td>\n",
       "    </tr>\n",
       "    <tr>\n",
       "      <th>20</th>\n",
       "      <td>04796c896e65977aef763f7c063ec46f482f9fb344cff4...</td>\n",
       "      <td>retained</td>\n",
       "    </tr>\n",
       "    <tr>\n",
       "      <th>21</th>\n",
       "      <td>1988bfba44be3d309b3b2cfb60fa6db4dc5fd14ff426d1...</td>\n",
       "      <td>retained</td>\n",
       "    </tr>\n",
       "    <tr>\n",
       "      <th>22</th>\n",
       "      <td>4c21346082e76cab6312b3d4c5b1089b25ebf8a152d8d1...</td>\n",
       "      <td>retained</td>\n",
       "    </tr>\n",
       "    <tr>\n",
       "      <th>23</th>\n",
       "      <td>485da6e5bc6520747066b2106d36eb7d69964fdd874ce7...</td>\n",
       "      <td>retained</td>\n",
       "    </tr>\n",
       "    <tr>\n",
       "      <th>24</th>\n",
       "      <td>a96598137277da3fc36522b9a26191ef1a6dbd72d21046...</td>\n",
       "      <td>retained</td>\n",
       "    </tr>\n",
       "    <tr>\n",
       "      <th>25</th>\n",
       "      <td>6801e462c0e08997f61a210e99df3c252dcbdc5251fb38...</td>\n",
       "      <td>retained</td>\n",
       "    </tr>\n",
       "    <tr>\n",
       "      <th>26</th>\n",
       "      <td>241250815e515c2b116bd6f1947d6b3d0c9eb077630e43...</td>\n",
       "      <td>retained</td>\n",
       "    </tr>\n",
       "    <tr>\n",
       "      <th>27</th>\n",
       "      <td>5615d100083d2a6f4ce2a92d8d65b210e0fd432c2d7239...</td>\n",
       "      <td>retained</td>\n",
       "    </tr>\n",
       "    <tr>\n",
       "      <th>28</th>\n",
       "      <td>480e7130d88b5576300fa2b894a21e7f76a98fa282f58d...</td>\n",
       "      <td>retained</td>\n",
       "    </tr>\n",
       "    <tr>\n",
       "      <th>29</th>\n",
       "      <td>f6a46ae0f03a83635a127ceddaf9b9e7d336056a08e85c...</td>\n",
       "      <td>retained</td>\n",
       "    </tr>\n",
       "    <tr>\n",
       "      <th>...</th>\n",
       "      <td>...</td>\n",
       "      <td>...</td>\n",
       "    </tr>\n",
       "    <tr>\n",
       "      <th>39970</th>\n",
       "      <td>2d5be59b74ad3cc9e73da055286b30e902d320efeb0262...</td>\n",
       "      <td>week</td>\n",
       "    </tr>\n",
       "    <tr>\n",
       "      <th>39971</th>\n",
       "      <td>a4f52869d4b486cd8cf9492f6e4bca236370b69831d6b8...</td>\n",
       "      <td>month</td>\n",
       "    </tr>\n",
       "    <tr>\n",
       "      <th>39972</th>\n",
       "      <td>4bc5f1e862929f54be5f0dd18ab66e811effd28df68634...</td>\n",
       "      <td>week</td>\n",
       "    </tr>\n",
       "    <tr>\n",
       "      <th>39973</th>\n",
       "      <td>bb89b85613f1142d66b3a61ccd247db1c639c891fdb7b4...</td>\n",
       "      <td>month</td>\n",
       "    </tr>\n",
       "    <tr>\n",
       "      <th>39974</th>\n",
       "      <td>c124447b86ba9b7c56c9ac87a828716135f6914c9c0398...</td>\n",
       "      <td>2month</td>\n",
       "    </tr>\n",
       "    <tr>\n",
       "      <th>39975</th>\n",
       "      <td>e21f48bd73ee019fe4bc7ff15e5bcb743f21bd782a4eb2...</td>\n",
       "      <td>month</td>\n",
       "    </tr>\n",
       "    <tr>\n",
       "      <th>39976</th>\n",
       "      <td>ff87773aef6320cd88cb7e5acb8a57c2f4f44bf399f8db...</td>\n",
       "      <td>week</td>\n",
       "    </tr>\n",
       "    <tr>\n",
       "      <th>39977</th>\n",
       "      <td>9d4be1307871a3b26d458f676b32d6df9ad174b85fc315...</td>\n",
       "      <td>retained</td>\n",
       "    </tr>\n",
       "    <tr>\n",
       "      <th>39978</th>\n",
       "      <td>796baeff52d52de8c4d30751b1885016ca85459dc5e883...</td>\n",
       "      <td>2month</td>\n",
       "    </tr>\n",
       "    <tr>\n",
       "      <th>39979</th>\n",
       "      <td>21582be51d5299bd42fc569d0bb69f7bacc967396c70f4...</td>\n",
       "      <td>week</td>\n",
       "    </tr>\n",
       "    <tr>\n",
       "      <th>39980</th>\n",
       "      <td>4cb8584494e5922aa9e116e35fd7df7b82f81649a60287...</td>\n",
       "      <td>week</td>\n",
       "    </tr>\n",
       "    <tr>\n",
       "      <th>39981</th>\n",
       "      <td>54b9b579d4f0810a6c3dc2128a0c995c0164c94d4ebead...</td>\n",
       "      <td>retained</td>\n",
       "    </tr>\n",
       "    <tr>\n",
       "      <th>39982</th>\n",
       "      <td>ce14ecff953f7ef4cda706926d7347bd3927e254d9ae22...</td>\n",
       "      <td>retained</td>\n",
       "    </tr>\n",
       "    <tr>\n",
       "      <th>39983</th>\n",
       "      <td>1073d83dc5fcbaa82b914422ab5336f15b6b550c51135e...</td>\n",
       "      <td>month</td>\n",
       "    </tr>\n",
       "    <tr>\n",
       "      <th>39984</th>\n",
       "      <td>09d68e9f9d73e497af90cb135341b45c3f99fec5d87cf5...</td>\n",
       "      <td>week</td>\n",
       "    </tr>\n",
       "    <tr>\n",
       "      <th>39985</th>\n",
       "      <td>febaaaf0743660852c42709c0df807eca79d21caec076b...</td>\n",
       "      <td>week</td>\n",
       "    </tr>\n",
       "    <tr>\n",
       "      <th>39986</th>\n",
       "      <td>e7c9e345e3ff12239596892b6fcf1cb169ac5c7bc8f50d...</td>\n",
       "      <td>month</td>\n",
       "    </tr>\n",
       "    <tr>\n",
       "      <th>39987</th>\n",
       "      <td>f31a8736c7a817b536a6406693512b0e92a48193a21b3d...</td>\n",
       "      <td>month</td>\n",
       "    </tr>\n",
       "    <tr>\n",
       "      <th>39988</th>\n",
       "      <td>418cc9592f6eee59e5c73c27f4ec8cf9edcf8b943ad849...</td>\n",
       "      <td>month</td>\n",
       "    </tr>\n",
       "    <tr>\n",
       "      <th>39989</th>\n",
       "      <td>e254ddc0a142677f2c3bbc6372f15530d859a338e23c85...</td>\n",
       "      <td>week</td>\n",
       "    </tr>\n",
       "    <tr>\n",
       "      <th>39990</th>\n",
       "      <td>0b18db0cf7c6eeb1e42a90ae012fcd1125f81c14440319...</td>\n",
       "      <td>month</td>\n",
       "    </tr>\n",
       "    <tr>\n",
       "      <th>39991</th>\n",
       "      <td>8697b69c5ceff533ccfb95c5c7afe9d0b6825420f034cd...</td>\n",
       "      <td>week</td>\n",
       "    </tr>\n",
       "    <tr>\n",
       "      <th>39992</th>\n",
       "      <td>1e486f5260fdfefa9fa3b0a0cd97444ebf8cf5bfc5f0d8...</td>\n",
       "      <td>week</td>\n",
       "    </tr>\n",
       "    <tr>\n",
       "      <th>39993</th>\n",
       "      <td>b33bedf5ff5eb2310f5dfcc8871fd40ad3a5e105b26dd7...</td>\n",
       "      <td>week</td>\n",
       "    </tr>\n",
       "    <tr>\n",
       "      <th>39994</th>\n",
       "      <td>85b0ec118730cd4d18fa854e2cba2e2c4a498f0e0ae9e2...</td>\n",
       "      <td>month</td>\n",
       "    </tr>\n",
       "    <tr>\n",
       "      <th>39995</th>\n",
       "      <td>49c4a9e465a9398faf0de9c987ce0a09a85e29d3bab1dc...</td>\n",
       "      <td>2month</td>\n",
       "    </tr>\n",
       "    <tr>\n",
       "      <th>39996</th>\n",
       "      <td>d048b24f5205a50916339d24fc9f7b1c69352d2ee10f1c...</td>\n",
       "      <td>week</td>\n",
       "    </tr>\n",
       "    <tr>\n",
       "      <th>39997</th>\n",
       "      <td>ad5b3ef19e64aceb9ffea55310607ba62146218e616a83...</td>\n",
       "      <td>month</td>\n",
       "    </tr>\n",
       "    <tr>\n",
       "      <th>39998</th>\n",
       "      <td>972114a3bb57c377d162fb66b9198a2eec40de9576af51...</td>\n",
       "      <td>retained</td>\n",
       "    </tr>\n",
       "    <tr>\n",
       "      <th>39999</th>\n",
       "      <td>813ad8039e2692aecc1b7875f3a9b1e951477937ec30bd...</td>\n",
       "      <td>retained</td>\n",
       "    </tr>\n",
       "  </tbody>\n",
       "</table>\n",
       "<p>40000 rows × 2 columns</p>\n",
       "</div>"
      ],
      "text/plain": [
       "                                                  acc_id     label\n",
       "0      fa5e9cb3dadb37c4797ca7785ea99558ebef24bcbbf844...  retained\n",
       "1      ab6586a9739bb1644f0178e7b4cac5638c1a74bd79bee7...  retained\n",
       "2      5ee147701a3df678ca18f96b9676c01c3a885fd1010699...  retained\n",
       "3      36c84995ef772131e89516228ad99051c99f5f6f51d763...      week\n",
       "4      5418e41497f5d8a8013ad0ad98275d2126a5c9530cd3fa...  retained\n",
       "5      ddd4327ca0426225c900d9a176ed8eb0d047366d935751...  retained\n",
       "6      a0714feedb6bfdca4ff1b41cad71cf97a5b1efbb0279c4...  retained\n",
       "7      41a4f1cc7559321af79dfbab7fad9ab9b6be317df08ada...  retained\n",
       "8      662538b2d503d1da5bcd1a53ecbcffd388766d7d0b0b74...  retained\n",
       "9      4fd3e6268fa841d4576252270597b4adaf76c2aec130c1...  retained\n",
       "10     6b0c12a8ace2d258fcd8c51ec11e8ba9313b945143fac6...  retained\n",
       "11     3344d8ddb46457acba4cf8dc3c075ae084e7c93ad32fb4...  retained\n",
       "12     def480074a5f17fbc9f981a22688ebd807b4b826ab1609...  retained\n",
       "13     1f27a2b4101a5e0004f51b6f54c46b37bc44c81f553ab1...  retained\n",
       "14     4a5e4177c31f352018087eda8b47041903e5d47ae684f2...      week\n",
       "15     ae12ce9258bacac3242aaff085dd1f7d0231881aa7105e...  retained\n",
       "16     a02138c758ed9bd13a25f22ab92cce40d360226c865e6f...  retained\n",
       "17     cdc849cefe8d03027bbb892c654bd18897348b19181826...  retained\n",
       "18     d3b1f05374a901b3cd813c660e8ddb6fb7714ac869d368...  retained\n",
       "19     c28ef2774a5c706ca1855fc74fdf86ef2c589f93dee671...  retained\n",
       "20     04796c896e65977aef763f7c063ec46f482f9fb344cff4...  retained\n",
       "21     1988bfba44be3d309b3b2cfb60fa6db4dc5fd14ff426d1...  retained\n",
       "22     4c21346082e76cab6312b3d4c5b1089b25ebf8a152d8d1...  retained\n",
       "23     485da6e5bc6520747066b2106d36eb7d69964fdd874ce7...  retained\n",
       "24     a96598137277da3fc36522b9a26191ef1a6dbd72d21046...  retained\n",
       "25     6801e462c0e08997f61a210e99df3c252dcbdc5251fb38...  retained\n",
       "26     241250815e515c2b116bd6f1947d6b3d0c9eb077630e43...  retained\n",
       "27     5615d100083d2a6f4ce2a92d8d65b210e0fd432c2d7239...  retained\n",
       "28     480e7130d88b5576300fa2b894a21e7f76a98fa282f58d...  retained\n",
       "29     f6a46ae0f03a83635a127ceddaf9b9e7d336056a08e85c...  retained\n",
       "...                                                  ...       ...\n",
       "39970  2d5be59b74ad3cc9e73da055286b30e902d320efeb0262...      week\n",
       "39971  a4f52869d4b486cd8cf9492f6e4bca236370b69831d6b8...     month\n",
       "39972  4bc5f1e862929f54be5f0dd18ab66e811effd28df68634...      week\n",
       "39973  bb89b85613f1142d66b3a61ccd247db1c639c891fdb7b4...     month\n",
       "39974  c124447b86ba9b7c56c9ac87a828716135f6914c9c0398...    2month\n",
       "39975  e21f48bd73ee019fe4bc7ff15e5bcb743f21bd782a4eb2...     month\n",
       "39976  ff87773aef6320cd88cb7e5acb8a57c2f4f44bf399f8db...      week\n",
       "39977  9d4be1307871a3b26d458f676b32d6df9ad174b85fc315...  retained\n",
       "39978  796baeff52d52de8c4d30751b1885016ca85459dc5e883...    2month\n",
       "39979  21582be51d5299bd42fc569d0bb69f7bacc967396c70f4...      week\n",
       "39980  4cb8584494e5922aa9e116e35fd7df7b82f81649a60287...      week\n",
       "39981  54b9b579d4f0810a6c3dc2128a0c995c0164c94d4ebead...  retained\n",
       "39982  ce14ecff953f7ef4cda706926d7347bd3927e254d9ae22...  retained\n",
       "39983  1073d83dc5fcbaa82b914422ab5336f15b6b550c51135e...     month\n",
       "39984  09d68e9f9d73e497af90cb135341b45c3f99fec5d87cf5...      week\n",
       "39985  febaaaf0743660852c42709c0df807eca79d21caec076b...      week\n",
       "39986  e7c9e345e3ff12239596892b6fcf1cb169ac5c7bc8f50d...     month\n",
       "39987  f31a8736c7a817b536a6406693512b0e92a48193a21b3d...     month\n",
       "39988  418cc9592f6eee59e5c73c27f4ec8cf9edcf8b943ad849...     month\n",
       "39989  e254ddc0a142677f2c3bbc6372f15530d859a338e23c85...      week\n",
       "39990  0b18db0cf7c6eeb1e42a90ae012fcd1125f81c14440319...     month\n",
       "39991  8697b69c5ceff533ccfb95c5c7afe9d0b6825420f034cd...      week\n",
       "39992  1e486f5260fdfefa9fa3b0a0cd97444ebf8cf5bfc5f0d8...      week\n",
       "39993  b33bedf5ff5eb2310f5dfcc8871fd40ad3a5e105b26dd7...      week\n",
       "39994  85b0ec118730cd4d18fa854e2cba2e2c4a498f0e0ae9e2...     month\n",
       "39995  49c4a9e465a9398faf0de9c987ce0a09a85e29d3bab1dc...    2month\n",
       "39996  d048b24f5205a50916339d24fc9f7b1c69352d2ee10f1c...      week\n",
       "39997  ad5b3ef19e64aceb9ffea55310607ba62146218e616a83...     month\n",
       "39998  972114a3bb57c377d162fb66b9198a2eec40de9576af51...  retained\n",
       "39999  813ad8039e2692aecc1b7875f3a9b1e951477937ec30bd...  retained\n",
       "\n",
       "[40000 rows x 2 columns]"
      ]
     },
     "execution_count": 62,
     "metadata": {},
     "output_type": "execute_result"
    }
   ],
   "source": [
    "submission"
   ]
  }
 ],
 "metadata": {
  "kernelspec": {
   "display_name": "Python 3",
   "language": "python",
   "name": "python3"
  },
  "language_info": {
   "codemirror_mode": {
    "name": "ipython",
    "version": 3
   },
   "file_extension": ".py",
   "mimetype": "text/x-python",
   "name": "python",
   "nbconvert_exporter": "python",
   "pygments_lexer": "ipython3",
   "version": "3.5.2"
  }
 },
 "nbformat": 4,
 "nbformat_minor": 2
}
