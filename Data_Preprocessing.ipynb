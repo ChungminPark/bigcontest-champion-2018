{
 "cells": [
  {
   "cell_type": "code",
   "execution_count": 1,
   "metadata": {},
   "outputs": [],
   "source": [
    "import numpy as np\n",
    "import pandas as pd\n",
    "import matplotlib.pyplot as plt\n",
    "from sklearn.preprocessing import OneHotEncoder, LabelEncoder, StandardScaler, MinMaxScaler, Normalizer\n"
   ]
  },
  {
   "cell_type": "code",
   "execution_count": 2,
   "metadata": {},
   "outputs": [
    {
     "name": "stdout",
     "output_type": "stream",
     "text": [
      "Loading Data...\n"
     ]
    }
   ],
   "source": [
    "# Data load\n",
    "print('Loading Data...')\n",
    "train_activity = pd.read_csv('./train/train_activity.csv', encoding='cp949')\n",
    "train_label = pd.read_csv('./train/train_label.csv', encoding='cp949')\n",
    "train_party = pd.read_csv('./train/train_party.csv', encoding='cp949')\n",
    "train_payment = pd.read_csv('./train/train_payment.csv', encoding='cp949')\n",
    "train_trade = pd.read_csv('./train/train_trade.csv', encoding='cp949')\n",
    "train_guild = pd.read_csv('./train/train_guild.csv', encoding='cp949')\n",
    "\n",
    "test_activity = pd.read_csv('./test/test_activity.csv', encoding='cp949')\n",
    "test_party = pd.read_csv('./test/test_party.csv', encoding='cp949')\n",
    "test_payment = pd.read_csv('./test/test_payment.csv', encoding='cp949')\n",
    "test_trade = pd.read_csv('./test/test_trade.csv', encoding='cp949')\n",
    "test_guild = pd.read_csv('./test/test_guild.csv', encoding='cp949')"
   ]
  },
  {
   "cell_type": "code",
   "execution_count": 3,
   "metadata": {
    "scrolled": true
   },
   "outputs": [],
   "source": [
    "# 'acc_id'가 같은 row들을 하나의 row로 sum\n",
    "# as_index=False  groupby를 할 때 기준이 되는 key가 사라지지 않도록 함.\n",
    "# sort=False groupby 이후 자동정렬하지 않도록 함.\n",
    "train_activity_sum = train_activity.groupby(['acc_id'], as_index=False, sort=False).sum() # 100000 rows × 38 columns\n",
    "train_payment_sum = train_payment.groupby(['acc_id'], as_index=False, sort=False).sum()\n",
    "\n",
    "test_activity_sum = test_activity.groupby(['acc_id'], as_index=False, sort=False).sum() \n",
    "test_payment_sum = test_payment.groupby(['acc_id'], as_index=False, sort=False).sum()"
   ]
  },
  {
   "cell_type": "code",
   "execution_count": 4,
   "metadata": {},
   "outputs": [],
   "source": [
    "train_guild_copy = train_guild.copy()\n",
    "test_guild_copy = test_guild.copy()"
   ]
  },
  {
   "cell_type": "code",
   "execution_count": 5,
   "metadata": {},
   "outputs": [],
   "source": [
    "# Guild에 속한 ID row로 분해\n",
    "# ref: https://stackoverflow.com/questions/38651008/splitting-multiple-columns-into-rows-in-pandas-dataframe\n",
    "train_guild_member = train_guild_copy.guild_member_acc_id.str.split(',', expand=True).stack().str.strip().reset_index(level=1, drop=True)\n",
    "train_guild_member = pd.concat([train_guild_member], axis=1, keys=['acc_id'])\n",
    "\n",
    "test_guild_member = test_guild_copy.guild_member_acc_id.str.split(',', expand=True).stack().str.strip().reset_index(level=1, drop=True)\n",
    "test_guild_member = pd.concat([test_guild_member], axis=1, keys=['acc_id'])"
   ]
  },
  {
   "cell_type": "code",
   "execution_count": 6,
   "metadata": {
    "scrolled": true
   },
   "outputs": [],
   "source": [
    "# 기존의 guild_member_acc_id를 지우고 guild_member의 컬럼들을 추가\n",
    "train_guild_copy = train_guild_copy.drop(['guild_member_acc_id'], axis=1).join(train_guild_member).reset_index(drop=True)\n",
    "\n",
    "test_guild_copy = test_guild_copy.drop(['guild_member_acc_id'], axis=1).join(test_guild_member).reset_index(drop=True)"
   ]
  },
  {
   "cell_type": "code",
   "execution_count": 7,
   "metadata": {},
   "outputs": [],
   "source": [
    "# guild_id = 0: 길드를 가입하지 않은 유저\n",
    "# guild_id = 1: 길드를 가입한 유저\n",
    "train_guild_act = pd.merge(train_guild_copy, train_activity_sum, how='right', sort=False).fillna(0)\n",
    "mask = train_guild_act['guild_id'] != 0\n",
    "column_name = 'guild_id'\n",
    "train_guild_act.loc[mask, column_name] = 1\n",
    "\n",
    "test_guild_act = pd.merge(test_guild_copy, test_activity_sum, how='right', sort=False).fillna(0)\n",
    "mask = test_guild_act['guild_id'] != 0\n",
    "column_name = 'guild_id'\n",
    "test_guild_act.loc[mask, column_name] = 1"
   ]
  },
  {
   "cell_type": "code",
   "execution_count": 8,
   "metadata": {
    "scrolled": true
   },
   "outputs": [],
   "source": [
    "# 하나의 row로 합치기\n",
    "# 길드 소속이 2개 이상인 계정 통합\n",
    "train_guild_act = train_guild_act.groupby(['acc_id'], as_index=False, sort=False).mean()\n",
    "\n",
    "test_guild_act = test_guild_act.groupby(['acc_id'], as_index=False, sort=False).mean()\n",
    "\n",
    "# guild_id -> guild  column 이름 변경\n",
    "train_guild_act = train_guild_act.rename(columns={'guild_id': 'guild'})\n",
    "test_guild_act = test_guild_act.rename(columns={'guild_id': 'guild'})"
   ]
  },
  {
   "cell_type": "code",
   "execution_count": 9,
   "metadata": {
    "scrolled": true
   },
   "outputs": [],
   "source": [
    "# 길드에 소속된 계정만 출력\n",
    "# train_guild_act.loc[train_guild_act['guild'] == 0]"
   ]
  },
  {
   "cell_type": "code",
   "execution_count": 10,
   "metadata": {
    "scrolled": true
   },
   "outputs": [],
   "source": [
    "# test_guild_act.loc[test_guild_act['guild'] == 0]"
   ]
  },
  {
   "cell_type": "code",
   "execution_count": 11,
   "metadata": {
    "scrolled": true
   },
   "outputs": [],
   "source": [
    "# payment 테이블 merge\n",
    "train_data = pd.merge(train_guild_act, train_payment_sum.drop(columns=['payment_week']), how='outer', sort=False)\n",
    "\n",
    "test_data = pd.merge(test_guild_act, test_payment_sum.drop(columns=['payment_week']), how='outer', sort=False)"
   ]
  },
  {
   "cell_type": "code",
   "execution_count": 12,
   "metadata": {},
   "outputs": [],
   "source": [
    "# train label file encoding (scikit learn Label Encoding은 자동정렬을 하기 때문에 사용하지 않음)\n",
    "# ref: https://stackoverflow.com/questions/42196589/any-way-to-get-mappings-of-a-label-encoder-in-python-pandas\n",
    "# train_label_en = pd.DataFrame({'label':pd.Categorical(train_label.label,  ['week', 'month', '2month', 'retained']).labels, 'acc_id':train_label.acc_id})\n",
    "# print(train_label_en)"
   ]
  },
  {
   "cell_type": "code",
   "execution_count": 13,
   "metadata": {},
   "outputs": [],
   "source": [
    "# Encoding 부분\n",
    "# Onehot Encoding을 위해 Int 형으로 데이터 변환\n",
    "label_encoder = LabelEncoder()\n",
    "int_encoded = label_encoder.fit_transform(train_label.label)\n",
    "# shape 모양 형태 변환 (#data,) -> (#data,1)\n",
    "int_encoded = int_encoded.reshape(len(int_encoded),1)"
   ]
  },
  {
   "cell_type": "code",
   "execution_count": 14,
   "metadata": {},
   "outputs": [],
   "source": [
    "onthot_encoder = OneHotEncoder(sparse=False)\n",
    "onehot_encoded = onthot_encoder.fit_transform(int_encoded)"
   ]
  },
  {
   "cell_type": "code",
   "execution_count": 15,
   "metadata": {
    "scrolled": true
   },
   "outputs": [],
   "source": [
    "train_label_en = pd.concat([train_label, pd.DataFrame(onehot_encoded, columns=['2month', 'month', 'retained', 'week'])], axis=1)\n",
    "train_label_en = train_label_en.drop(columns=['label'])"
   ]
  },
  {
   "cell_type": "markdown",
   "metadata": {},
   "source": [
    "pd.merge(train_data, train_label, sort=False)\n",
    "pd.merge(train_data, train_label_en, sort=False)\n",
    "두 개 비교를 통해서 레이블이 제대로 인코딩 되었는지 확인할 수 있음"
   ]
  },
  {
   "cell_type": "code",
   "execution_count": 16,
   "metadata": {
    "scrolled": true
   },
   "outputs": [],
   "source": [
    "#pd.merge(train_data, train_label, sort=False)"
   ]
  },
  {
   "cell_type": "code",
   "execution_count": 17,
   "metadata": {
    "scrolled": true
   },
   "outputs": [],
   "source": [
    "#pd.merge(train_data, train_label_en, sort=False)"
   ]
  },
  {
   "cell_type": "code",
   "execution_count": 18,
   "metadata": {
    "scrolled": true
   },
   "outputs": [],
   "source": [
    "train_data = pd.merge(train_data, train_label_en, sort=False)"
   ]
  },
  {
   "cell_type": "code",
   "execution_count": 19,
   "metadata": {
    "scrolled": true
   },
   "outputs": [],
   "source": [
    "# duel ratio: 승 / 참여 횟수\n",
    "train_data['duel_winRatio'] = train_data['duel_win'] / train_data['duel_cnt']\n",
    "train_data = train_data.drop(columns=['duel_win', 'duel_cnt'])\n",
    "\n",
    "test_data['duel_winRatio'] = test_data['duel_win'] / test_data['duel_cnt']\n",
    "test_data = test_data.drop(columns=['duel_win', 'duel_cnt'])"
   ]
  },
  {
   "cell_type": "code",
   "execution_count": 20,
   "metadata": {
    "scrolled": true
   },
   "outputs": [],
   "source": [
    "# partybattle ratio: 승 / 참여 횟수\n",
    "train_data['partybattle_winRatio'] = train_data['partybattle_win'] / train_data['partybattle_cnt']\n",
    "train_data = train_data.drop(columns=['partybattle_win', 'partybattle_cnt'])\n",
    "\n",
    "test_data['partybattle_winRatio'] = test_data['partybattle_win'] / test_data['partybattle_cnt']\n",
    "test_data = test_data.drop(columns=['partybattle_win', 'partybattle_cnt'])"
   ]
  },
  {
   "cell_type": "code",
   "execution_count": 21,
   "metadata": {},
   "outputs": [],
   "source": [
    "# solo clear ratio: 완료 횟수 / 입장 횟수\n",
    "train_data['inzone_solo_clearRatio'] = train_data['cnt_clear_inzone_solo'] / train_data['cnt_enter_inzone_solo']\n",
    "train_data = train_data.drop(columns=['cnt_clear_inzone_solo', 'cnt_enter_inzone_solo'])\n",
    "\n",
    "test_data['inzone_solo_clearRatio'] = test_data['cnt_clear_inzone_solo'] / test_data['cnt_enter_inzone_solo']\n",
    "test_data = test_data.drop(columns=['cnt_clear_inzone_solo', 'cnt_enter_inzone_solo'])"
   ]
  },
  {
   "cell_type": "code",
   "execution_count": 22,
   "metadata": {},
   "outputs": [],
   "source": [
    "# light clear ratio: 완료 횟수 / 입장 횟수\n",
    "train_data['inzone_light_clearRatio'] = train_data['cnt_clear_inzone_light'] / train_data['cnt_enter_inzone_light']\n",
    "train_data = train_data.drop(columns=['cnt_clear_inzone_light', 'cnt_enter_inzone_light'])\n",
    "\n",
    "test_data['inzone_light_clearRatio'] = test_data['cnt_clear_inzone_light'] / test_data['cnt_enter_inzone_light']\n",
    "test_data = test_data.drop(columns=['cnt_clear_inzone_light', 'cnt_enter_inzone_light'])"
   ]
  },
  {
   "cell_type": "code",
   "execution_count": 23,
   "metadata": {},
   "outputs": [],
   "source": [
    "# skilled clear ratio: 완료 횟수 / 입장 횟수\n",
    "train_data['inzone_skilled_clearRatio'] = train_data['cnt_clear_inzone_skilled'] / train_data['cnt_enter_inzone_skilled']\n",
    "train_data = train_data.drop(columns=['cnt_clear_inzone_skilled', 'cnt_enter_inzone_skilled'])\n",
    "\n",
    "test_data['inzone_skilled_clearRatio'] = test_data['cnt_clear_inzone_skilled'] / test_data['cnt_enter_inzone_skilled']\n",
    "test_data = test_data.drop(columns=['cnt_clear_inzone_skilled', 'cnt_enter_inzone_skilled'])"
   ]
  },
  {
   "cell_type": "code",
   "execution_count": 24,
   "metadata": {},
   "outputs": [],
   "source": [
    "# normal clear ratio: 완료 횟수 / 입장 횟수\n",
    "train_data['inzone_skilled_clearRatio'] = train_data['cnt_clear_inzone_normal'] / train_data['cnt_enter_inzone_normal']\n",
    "train_data = train_data.drop(columns=['cnt_clear_inzone_normal', 'cnt_enter_inzone_normal'])\n",
    "\n",
    "test_data['inzone_skilled_clearRatio'] = test_data['cnt_clear_inzone_normal'] / test_data['cnt_enter_inzone_normal']\n",
    "test_data = test_data.drop(columns=['cnt_clear_inzone_normal', 'cnt_enter_inzone_normal'])"
   ]
  },
  {
   "cell_type": "code",
   "execution_count": 25,
   "metadata": {},
   "outputs": [],
   "source": [
    "# raid clear ratio: 완료 횟수 / 입장 횟수\n",
    "train_data['raid_clearRatio'] = train_data['cnt_clear_raid'] / train_data['cnt_enter_raid']\n",
    "train_data = train_data.drop(columns=['cnt_clear_raid', 'cnt_enter_raid'])\n",
    "\n",
    "test_data['raid_clearRatio'] = test_data['cnt_clear_raid'] / test_data['cnt_enter_raid']\n",
    "test_data = test_data.drop(columns=['cnt_clear_raid', 'cnt_enter_raid'])"
   ]
  },
  {
   "cell_type": "code",
   "execution_count": 26,
   "metadata": {},
   "outputs": [],
   "source": [
    "# raid light clear ratio: 완료 횟수 / 입장 횟수\n",
    "train_data['raid_light_clearRatio'] = train_data['cnt_clear_raid_light'] / train_data['cnt_enter_raid_light']\n",
    "train_data = train_data.drop(columns=['cnt_clear_raid_light', 'cnt_enter_raid_light'])\n",
    "\n",
    "test_data['raid_light_clearRatio'] = test_data['cnt_clear_raid_light'] / test_data['cnt_enter_raid_light']\n",
    "test_data = test_data.drop(columns=['cnt_clear_raid_light', 'cnt_enter_raid_light'])"
   ]
  },
  {
   "cell_type": "code",
   "execution_count": 27,
   "metadata": {},
   "outputs": [],
   "source": [
    "# bam clear ratio: 완료 횟수 / 입장 횟수\n",
    "train_data['bam_clearRatio'] = train_data['cnt_clear_bam'] / train_data['cnt_enter_bam']\n",
    "train_data = train_data.drop(columns=['cnt_clear_bam', 'cnt_enter_bam'])\n",
    "\n",
    "test_data['bam_clearRatio'] = test_data['cnt_clear_bam'] / test_data['cnt_enter_bam']\n",
    "test_data = test_data.drop(columns=['cnt_clear_bam', 'cnt_enter_bam'])"
   ]
  },
  {
   "cell_type": "code",
   "execution_count": 28,
   "metadata": {},
   "outputs": [],
   "source": [
    "# chat: 모든 채팅 횟수의 합\n",
    "train_data['chat'] = train_data['normal_chat'] + train_data['whisper_chat'] + train_data['district_chat'] + train_data['party_chat'] + train_data['guild_chat'] + train_data['faction_chat']\n",
    "train_data = train_data.drop(columns=['normal_chat', 'whisper_chat', 'district_chat', 'party_chat', 'guild_chat', 'faction_chat'])\n",
    "\n",
    "test_data['chat'] = test_data['normal_chat'] + test_data['whisper_chat'] + test_data['district_chat'] + test_data['party_chat'] + test_data['guild_chat'] + test_data['faction_chat']\n",
    "test_data = test_data.drop(columns=['normal_chat', 'whisper_chat', 'district_chat', 'party_chat', 'guild_chat', 'faction_chat'])"
   ]
  },
  {
   "cell_type": "code",
   "execution_count": 29,
   "metadata": {},
   "outputs": [],
   "source": [
    "# wk 활동 시기 삭제\n",
    "train_data = train_data.drop(columns=['wk'])\n",
    "test_data = test_data.drop(columns=['wk'])\n",
    "\n",
    "train_data = train_data.drop(columns=['cnt_dt'])\n",
    "test_data = test_data.drop(columns=['cnt_dt'])"
   ]
  },
  {
   "cell_type": "code",
   "execution_count": 30,
   "metadata": {},
   "outputs": [],
   "source": [
    "# exp: 모든 경험치의 합\n",
    "train_data['exp'] = train_data['npc_exp'] + train_data['npc_hongmun'] + train_data['quest_exp'] + train_data['quest_hongmun'] + train_data['item_hongmun']\n",
    "train_data = train_data.drop(columns=['npc_exp', 'npc_hongmun', 'quest_exp', 'quest_hongmun', 'item_hongmun'])\n",
    "\n",
    "test_data['exp'] = test_data['npc_exp'] + test_data['npc_hongmun'] + test_data['quest_exp'] + test_data['quest_hongmun'] + test_data['item_hongmun']\n",
    "test_data = test_data.drop(columns=['npc_exp', 'npc_hongmun', 'quest_exp', 'quest_hongmun', 'item_hongmun'])"
   ]
  },
  {
   "cell_type": "code",
   "execution_count": 31,
   "metadata": {},
   "outputs": [],
   "source": [
    "# play_time / cnt_dt  하루 평균 게임 이용 시간 ( 데이터 비교해보기 )\n"
   ]
  },
  {
   "cell_type": "code",
   "execution_count": 32,
   "metadata": {},
   "outputs": [],
   "source": [
    "# party data 활용\n",
    "train_party_copy = train_party.copy()\n",
    "test_party_copy = test_party.copy()"
   ]
  },
  {
   "cell_type": "code",
   "execution_count": 33,
   "metadata": {},
   "outputs": [],
   "source": [
    "train_party_copy['party_start_day'] = (train_party_copy['party_start_week'] - 1) * 7 + train_party_copy['party_start_day']\n",
    "train_party_copy['party_end_day'] = (train_party_copy['party_end_week'] - 1) * 7 + train_party_copy['party_end_day']\n",
    "train_party_copy = train_party_copy.drop(columns=['party_start_week', 'party_end_week'])\n",
    "\n",
    "test_party_copy['party_start_day'] = (test_party_copy['party_start_week'] - 1) * 7 + test_party_copy['party_start_day']\n",
    "test_party_copy['party_end_day'] = (test_party_copy['party_end_week'] - 1) * 7 + test_party_copy['party_end_day']\n",
    "test_party_copy = test_party_copy.drop(columns=['party_start_week', 'party_end_week'])"
   ]
  },
  {
   "cell_type": "code",
   "execution_count": 34,
   "metadata": {
    "scrolled": true
   },
   "outputs": [],
   "source": [
    "# party_time = (end time - start time) + (end day - start day)\n",
    "# to_timedelta을 이용해서 days로 입력하기 위해 스트링으로 변환 후 day값에 days을 붙여줌\n",
    "# party_time은 파티를 한 시간(단위:초)\n",
    "# 시간 변환 ref: https://stackoverflow.com/questions/26566107/how-to-convert-numpy-timedelta64-to-minutes\n",
    "train_party_copy['party_day'] = (train_party_copy['party_end_day'] - train_party_copy['party_start_day']).astype('str')\n",
    "train_party_copy['party_day'] = train_party_copy['party_day'] + ' days'\n",
    "train_party_copy['party_time'] = (pd.to_timedelta(train_party_copy['party_end_time']) - pd.to_timedelta(train_party_copy['party_start_time']) + pd.to_timedelta(train_party_copy['party_day'])).astype('timedelta64[s]')\n",
    "\n",
    "test_party_copy['party_day'] = (test_party_copy['party_end_day'] - test_party_copy['party_start_day']).astype('str')\n",
    "test_party_copy['party_day'] = test_party_copy['party_day'] + ' days'\n",
    "test_party_copy['party_time'] = (pd.to_timedelta(test_party_copy['party_end_time']) - pd.to_timedelta(test_party_copy['party_start_time']) + pd.to_timedelta(test_party_copy['party_day'])).astype('timedelta64[s]')\n",
    "\n",
    "# 다 사용한 컬럼들 제거\n",
    "train_party_copy = train_party_copy.drop(columns=['party_start_day', 'party_end_day', 'party_start_time', 'party_end_time', 'party_day'])\n",
    "test_party_copy = test_party_copy.drop(columns=['party_start_day', 'party_end_day', 'party_start_time', 'party_end_time', 'party_day'])"
   ]
  },
  {
   "cell_type": "code",
   "execution_count": 35,
   "metadata": {},
   "outputs": [],
   "source": [
    "train_party_copy1 = train_party_copy[:2300000]\n",
    "train_party_copy2 = train_party_copy[2300000:4600000]\n",
    "train_party_copy3 = train_party_copy[4600000:]\n",
    "\n",
    "test_party_copy1 = test_party_copy[:2000000]\n",
    "test_party_copy2 = test_party_copy[2000000:]"
   ]
  },
  {
   "cell_type": "code",
   "execution_count": 36,
   "metadata": {},
   "outputs": [
    {
     "name": "stdout",
     "output_type": "stream",
     "text": [
      "2300000\n",
      "2300000\n",
      "2362341\n",
      "2000000\n",
      "2121512\n"
     ]
    }
   ],
   "source": [
    "print(len(train_party_copy1))\n",
    "print(len(train_party_copy2))\n",
    "print(len(train_party_copy3))\n",
    "\n",
    "print(len(test_party_copy1))\n",
    "print(len(test_party_copy2))"
   ]
  },
  {
   "cell_type": "code",
   "execution_count": 37,
   "metadata": {
    "scrolled": true
   },
   "outputs": [],
   "source": [
    "train_party_member1 = train_party_copy1.hashed.str.split(',', expand=True).stack().str.strip().reset_index(level=1, drop=True)\n",
    "train_party_member1 = pd.concat([train_party_member1], axis=1, keys=['acc_id'])"
   ]
  },
  {
   "cell_type": "code",
   "execution_count": 38,
   "metadata": {},
   "outputs": [],
   "source": [
    "train_party_member2 = train_party_copy2.hashed.str.split(',', expand=True).stack().str.strip().reset_index(level=1, drop=True)\n",
    "train_party_member2 = pd.concat([train_party_member2], axis=1, keys=['acc_id'])"
   ]
  },
  {
   "cell_type": "code",
   "execution_count": 39,
   "metadata": {},
   "outputs": [],
   "source": [
    "train_party_member3 = train_party_copy3.hashed.str.split(',', expand=True).stack().str.strip().reset_index(level=1, drop=True)\n",
    "train_party_member3 = pd.concat([train_party_member3], axis=1, keys=['acc_id'])"
   ]
  },
  {
   "cell_type": "code",
   "execution_count": 40,
   "metadata": {},
   "outputs": [],
   "source": [
    "test_party_member1 = test_party_copy1.hashed.str.split(',', expand=True).stack().str.strip().reset_index(level=1, drop=True)\n",
    "test_party_member1 = pd.concat([test_party_member1], axis=1, keys=['acc_id'])"
   ]
  },
  {
   "cell_type": "code",
   "execution_count": 41,
   "metadata": {},
   "outputs": [],
   "source": [
    "test_party_member2 = test_party_copy2.hashed.str.split(',', expand=True).stack().str.strip().reset_index(level=1, drop=True)\n",
    "test_party_member2 = pd.concat([test_party_member2], axis=1, keys=['acc_id'])"
   ]
  },
  {
   "cell_type": "code",
   "execution_count": 42,
   "metadata": {},
   "outputs": [],
   "source": [
    "train_party_copy1 = train_party_copy1.drop(['hashed'], axis=1).join(train_party_member1).reset_index(drop=True)\n",
    "train_party_copy2 = train_party_copy2.drop(['hashed'], axis=1).join(train_party_member2).reset_index(drop=True)\n",
    "train_party_copy3 = train_party_copy3.drop(['hashed'], axis=1).join(train_party_member3).reset_index(drop=True)\n",
    "\n",
    "test_party_copy1 = test_party_copy1.drop(['hashed'], axis=1).join(test_party_member1).reset_index(drop=True)\n",
    "test_party_copy2 = test_party_copy2.drop(['hashed'], axis=1).join(test_party_member2).reset_index(drop=True)"
   ]
  },
  {
   "cell_type": "code",
   "execution_count": 43,
   "metadata": {},
   "outputs": [
    {
     "name": "stdout",
     "output_type": "stream",
     "text": [
      "11322117\n",
      "11323117\n",
      "11639048\n",
      "10596258\n",
      "11253686\n"
     ]
    }
   ],
   "source": [
    "print(len(train_party_copy1))\n",
    "print(len(train_party_copy2))\n",
    "print(len(train_party_copy3))\n",
    "\n",
    "print(len(test_party_copy1))\n",
    "print(len(test_party_copy2))"
   ]
  },
  {
   "cell_type": "code",
   "execution_count": 44,
   "metadata": {},
   "outputs": [],
   "source": [
    "train_party_copy = pd.concat([train_party_copy1, train_party_copy2, train_party_copy3], axis=0)\n",
    "# del train_party_copy1, train_party_copy2, train_party_copy3, train_party_member1, train_party_member2, train_party_member3\n",
    "\n",
    "test_party_copy = pd.concat([test_party_copy1, test_party_copy2], axis=0)\n",
    "# del test_party_copy1, test_party_copy2, test_party_member1, test_party_member2"
   ]
  },
  {
   "cell_type": "code",
   "execution_count": 45,
   "metadata": {
    "scrolled": true
   },
   "outputs": [],
   "source": [
    "train_party_copy = train_party_copy.groupby(['acc_id'], as_index=False, sort=False).sum() \n",
    "\n",
    "test_party_copy = test_party_copy.groupby(['acc_id'], as_index=False, sort=False).sum() "
   ]
  },
  {
   "cell_type": "code",
   "execution_count": 46,
   "metadata": {
    "scrolled": true
   },
   "outputs": [],
   "source": [
    "train_data = pd.merge(train_data, train_party_copy, on='acc_id', how='left').fillna(0)\n",
    "\n",
    "test_data = pd.merge(test_data, test_party_copy, on='acc_id', how='left').fillna(0)"
   ]
  },
  {
   "cell_type": "code",
   "execution_count": 47,
   "metadata": {},
   "outputs": [
    {
     "data": {
      "text/plain": [
       "Index(['acc_id', 'guild', 'play_time', 'game_combat_time', 'get_money',\n",
       "       'cnt_use_buffitem', 'gathering_cnt', 'making_cnt', 'payment_amount',\n",
       "       '2month', 'month', 'retained', 'week', 'duel_winRatio',\n",
       "       'partybattle_winRatio', 'inzone_solo_clearRatio',\n",
       "       'inzone_light_clearRatio', 'inzone_skilled_clearRatio',\n",
       "       'raid_clearRatio', 'raid_light_clearRatio', 'bam_clearRatio', 'chat',\n",
       "       'exp', 'party_time'],\n",
       "      dtype='object')"
      ]
     },
     "execution_count": 47,
     "metadata": {},
     "output_type": "execute_result"
    }
   ],
   "source": [
    "train_data.columns"
   ]
  },
  {
   "cell_type": "code",
   "execution_count": 48,
   "metadata": {},
   "outputs": [],
   "source": [
    "train_data['winRatio'] = (train_data['duel_winRatio'] + train_data['partybattle_winRatio']) / 2\n",
    "train_data['clearRatio'] = (train_data['inzone_solo_clearRatio'] + train_data['inzone_light_clearRatio'] + train_data['inzone_skilled_clearRatio'] + train_data['raid_clearRatio'] + train_data['raid_light_clearRatio'] + train_data['bam_clearRatio']) / 6\n",
    "\n",
    "test_data['winRatio'] = (test_data['duel_winRatio'] + test_data['partybattle_winRatio']) / 2\n",
    "test_data['clearRatio'] = (test_data['inzone_solo_clearRatio'] + test_data['inzone_light_clearRatio'] + test_data['inzone_skilled_clearRatio'] + test_data['raid_clearRatio'] + test_data['raid_light_clearRatio'] + test_data['bam_clearRatio']) / 6\n",
    "\n",
    "train_data = train_data.drop(columns=['duel_winRatio', 'partybattle_winRatio', 'inzone_solo_clearRatio', 'inzone_light_clearRatio', 'inzone_skilled_clearRatio', 'raid_clearRatio', 'raid_light_clearRatio', 'bam_clearRatio'])\n",
    "test_data = test_data.drop(columns=['duel_winRatio', 'partybattle_winRatio', 'inzone_solo_clearRatio', 'inzone_light_clearRatio', 'inzone_skilled_clearRatio', 'raid_clearRatio', 'raid_light_clearRatio', 'bam_clearRatio'])"
   ]
  },
  {
   "cell_type": "code",
   "execution_count": 49,
   "metadata": {
    "scrolled": true
   },
   "outputs": [
    {
     "data": {
      "text/html": [
       "<div>\n",
       "<style scoped>\n",
       "    .dataframe tbody tr th:only-of-type {\n",
       "        vertical-align: middle;\n",
       "    }\n",
       "\n",
       "    .dataframe tbody tr th {\n",
       "        vertical-align: top;\n",
       "    }\n",
       "\n",
       "    .dataframe thead th {\n",
       "        text-align: right;\n",
       "    }\n",
       "</style>\n",
       "<table border=\"1\" class=\"dataframe\">\n",
       "  <thead>\n",
       "    <tr style=\"text-align: right;\">\n",
       "      <th></th>\n",
       "      <th>acc_id</th>\n",
       "      <th>guild</th>\n",
       "      <th>play_time</th>\n",
       "      <th>game_combat_time</th>\n",
       "      <th>get_money</th>\n",
       "      <th>cnt_use_buffitem</th>\n",
       "      <th>gathering_cnt</th>\n",
       "      <th>making_cnt</th>\n",
       "      <th>payment_amount</th>\n",
       "      <th>2month</th>\n",
       "      <th>month</th>\n",
       "      <th>retained</th>\n",
       "      <th>week</th>\n",
       "      <th>chat</th>\n",
       "      <th>exp</th>\n",
       "      <th>party_time</th>\n",
       "      <th>winRatio</th>\n",
       "      <th>clearRatio</th>\n",
       "    </tr>\n",
       "  </thead>\n",
       "  <tbody>\n",
       "    <tr>\n",
       "      <th>0</th>\n",
       "      <td>ba86804424a9a3708b1564a7726783612a75a5b881095e...</td>\n",
       "      <td>1</td>\n",
       "      <td>2.055999</td>\n",
       "      <td>3.303208</td>\n",
       "      <td>-0.064372</td>\n",
       "      <td>-2.426116</td>\n",
       "      <td>-0.222066</td>\n",
       "      <td>4.332736</td>\n",
       "      <td>2.316438</td>\n",
       "      <td>0.0</td>\n",
       "      <td>0.0</td>\n",
       "      <td>1.0</td>\n",
       "      <td>0.0</td>\n",
       "      <td>14.999690</td>\n",
       "      <td>9.591816</td>\n",
       "      <td>1762772.0</td>\n",
       "      <td>1.100292</td>\n",
       "      <td>0.893090</td>\n",
       "    </tr>\n",
       "    <tr>\n",
       "      <th>1</th>\n",
       "      <td>ddea37c9b636c4b1650414052f6ede370481e9e236b193...</td>\n",
       "      <td>1</td>\n",
       "      <td>-0.642371</td>\n",
       "      <td>-0.569842</td>\n",
       "      <td>-0.023543</td>\n",
       "      <td>-0.503692</td>\n",
       "      <td>-0.027758</td>\n",
       "      <td>-0.365536</td>\n",
       "      <td>-1.199188</td>\n",
       "      <td>0.0</td>\n",
       "      <td>0.0</td>\n",
       "      <td>0.0</td>\n",
       "      <td>1.0</td>\n",
       "      <td>-0.919453</td>\n",
       "      <td>-1.567120</td>\n",
       "      <td>0.0</td>\n",
       "      <td>1.048611</td>\n",
       "      <td>0.951173</td>\n",
       "    </tr>\n",
       "    <tr>\n",
       "      <th>2</th>\n",
       "      <td>b178c21c7e3a1a404dc6b8048d719f1e33873ab8b05a41...</td>\n",
       "      <td>1</td>\n",
       "      <td>-2.910908</td>\n",
       "      <td>-2.024365</td>\n",
       "      <td>-0.153370</td>\n",
       "      <td>-1.250636</td>\n",
       "      <td>-0.222066</td>\n",
       "      <td>0.825173</td>\n",
       "      <td>0.558625</td>\n",
       "      <td>0.0</td>\n",
       "      <td>0.0</td>\n",
       "      <td>1.0</td>\n",
       "      <td>0.0</td>\n",
       "      <td>-2.014938</td>\n",
       "      <td>-4.765902</td>\n",
       "      <td>297430.0</td>\n",
       "      <td>-1.903478</td>\n",
       "      <td>1.215634</td>\n",
       "    </tr>\n",
       "    <tr>\n",
       "      <th>3</th>\n",
       "      <td>25810af9e9cff193561a77da73684a3113c3c1539168b1...</td>\n",
       "      <td>1</td>\n",
       "      <td>-1.988991</td>\n",
       "      <td>-2.475399</td>\n",
       "      <td>-0.185975</td>\n",
       "      <td>-2.789053</td>\n",
       "      <td>-0.222066</td>\n",
       "      <td>2.034677</td>\n",
       "      <td>-0.496063</td>\n",
       "      <td>0.0</td>\n",
       "      <td>1.0</td>\n",
       "      <td>0.0</td>\n",
       "      <td>0.0</td>\n",
       "      <td>-1.096295</td>\n",
       "      <td>-6.858369</td>\n",
       "      <td>152529.0</td>\n",
       "      <td>1.079804</td>\n",
       "      <td>0.930629</td>\n",
       "    </tr>\n",
       "    <tr>\n",
       "      <th>4</th>\n",
       "      <td>464de00738deff449aabcdfe7f670e2fc0eb9fa3c9cd89...</td>\n",
       "      <td>1</td>\n",
       "      <td>0.910800</td>\n",
       "      <td>2.593565</td>\n",
       "      <td>-0.171723</td>\n",
       "      <td>2.080793</td>\n",
       "      <td>-0.222066</td>\n",
       "      <td>3.727984</td>\n",
       "      <td>-1.199188</td>\n",
       "      <td>0.0</td>\n",
       "      <td>0.0</td>\n",
       "      <td>1.0</td>\n",
       "      <td>0.0</td>\n",
       "      <td>13.386918</td>\n",
       "      <td>10.732284</td>\n",
       "      <td>783386.0</td>\n",
       "      <td>1.093656</td>\n",
       "      <td>0.891341</td>\n",
       "    </tr>\n",
       "    <tr>\n",
       "      <th>5</th>\n",
       "      <td>df69740fd9b58b4353ac3d38c1ec38e7f5366a4bdbed9c...</td>\n",
       "      <td>1</td>\n",
       "      <td>5.229929</td>\n",
       "      <td>3.137308</td>\n",
       "      <td>0.061717</td>\n",
       "      <td>5.287633</td>\n",
       "      <td>-0.222066</td>\n",
       "      <td>20.902950</td>\n",
       "      <td>4.425814</td>\n",
       "      <td>0.0</td>\n",
       "      <td>0.0</td>\n",
       "      <td>1.0</td>\n",
       "      <td>0.0</td>\n",
       "      <td>50.249777</td>\n",
       "      <td>21.409978</td>\n",
       "      <td>1296244.0</td>\n",
       "      <td>0.863768</td>\n",
       "      <td>0.880554</td>\n",
       "    </tr>\n",
       "    <tr>\n",
       "      <th>6</th>\n",
       "      <td>37273bc48cbb089e8bc6bf3eb3e155c73e1dd745e3606e...</td>\n",
       "      <td>1</td>\n",
       "      <td>-1.373555</td>\n",
       "      <td>-0.824481</td>\n",
       "      <td>-0.179948</td>\n",
       "      <td>-1.738163</td>\n",
       "      <td>-0.222066</td>\n",
       "      <td>3.848934</td>\n",
       "      <td>0.558625</td>\n",
       "      <td>0.0</td>\n",
       "      <td>0.0</td>\n",
       "      <td>1.0</td>\n",
       "      <td>0.0</td>\n",
       "      <td>-1.050178</td>\n",
       "      <td>6.939676</td>\n",
       "      <td>170986.0</td>\n",
       "      <td>1.486360</td>\n",
       "      <td>1.117428</td>\n",
       "    </tr>\n",
       "    <tr>\n",
       "      <th>7</th>\n",
       "      <td>03be59a8e01f2f5fdd42e8a74041b69f6b148257214f0c...</td>\n",
       "      <td>1</td>\n",
       "      <td>7.480646</td>\n",
       "      <td>1.806834</td>\n",
       "      <td>-0.106694</td>\n",
       "      <td>-0.958121</td>\n",
       "      <td>-0.222066</td>\n",
       "      <td>4.695588</td>\n",
       "      <td>9.734409</td>\n",
       "      <td>0.0</td>\n",
       "      <td>0.0</td>\n",
       "      <td>1.0</td>\n",
       "      <td>0.0</td>\n",
       "      <td>17.820267</td>\n",
       "      <td>42.449733</td>\n",
       "      <td>1579330.0</td>\n",
       "      <td>1.198552</td>\n",
       "      <td>0.765218</td>\n",
       "    </tr>\n",
       "    <tr>\n",
       "      <th>8</th>\n",
       "      <td>80562643e3d956ded3244d6ef950243578d45a74a4e007...</td>\n",
       "      <td>1</td>\n",
       "      <td>5.921157</td>\n",
       "      <td>2.220411</td>\n",
       "      <td>-0.092854</td>\n",
       "      <td>-2.079431</td>\n",
       "      <td>-0.222066</td>\n",
       "      <td>6.026043</td>\n",
       "      <td>1.261750</td>\n",
       "      <td>0.0</td>\n",
       "      <td>0.0</td>\n",
       "      <td>1.0</td>\n",
       "      <td>0.0</td>\n",
       "      <td>20.627391</td>\n",
       "      <td>14.519981</td>\n",
       "      <td>2736065.0</td>\n",
       "      <td>1.062684</td>\n",
       "      <td>0.906487</td>\n",
       "    </tr>\n",
       "    <tr>\n",
       "      <th>9</th>\n",
       "      <td>16b864bc8351dc9f27b738a22bbfde3b0355e3be54d191...</td>\n",
       "      <td>1</td>\n",
       "      <td>14.419799</td>\n",
       "      <td>7.250676</td>\n",
       "      <td>0.062136</td>\n",
       "      <td>1.029903</td>\n",
       "      <td>-0.222066</td>\n",
       "      <td>6.146993</td>\n",
       "      <td>17.433630</td>\n",
       "      <td>0.0</td>\n",
       "      <td>0.0</td>\n",
       "      <td>1.0</td>\n",
       "      <td>0.0</td>\n",
       "      <td>27.482478</td>\n",
       "      <td>53.865746</td>\n",
       "      <td>3140999.0</td>\n",
       "      <td>0.965777</td>\n",
       "      <td>0.931989</td>\n",
       "    </tr>\n",
       "    <tr>\n",
       "      <th>10</th>\n",
       "      <td>6cf455a5de8cd3a5f6992173348704c759e36cca29962e...</td>\n",
       "      <td>1</td>\n",
       "      <td>-1.547037</td>\n",
       "      <td>-1.961231</td>\n",
       "      <td>-0.185263</td>\n",
       "      <td>-0.936453</td>\n",
       "      <td>-0.222066</td>\n",
       "      <td>4.574637</td>\n",
       "      <td>-1.199188</td>\n",
       "      <td>0.0</td>\n",
       "      <td>0.0</td>\n",
       "      <td>1.0</td>\n",
       "      <td>0.0</td>\n",
       "      <td>1.054051</td>\n",
       "      <td>-0.655615</td>\n",
       "      <td>438103.0</td>\n",
       "      <td>1.057390</td>\n",
       "      <td>1.011550</td>\n",
       "    </tr>\n",
       "    <tr>\n",
       "      <th>11</th>\n",
       "      <td>c277f91cbcda1dc7a1eaa9363615b1d775d41704478475...</td>\n",
       "      <td>1</td>\n",
       "      <td>3.122587</td>\n",
       "      <td>0.824628</td>\n",
       "      <td>0.025131</td>\n",
       "      <td>-1.082711</td>\n",
       "      <td>-0.222066</td>\n",
       "      <td>2.760380</td>\n",
       "      <td>-1.199188</td>\n",
       "      <td>0.0</td>\n",
       "      <td>0.0</td>\n",
       "      <td>1.0</td>\n",
       "      <td>0.0</td>\n",
       "      <td>17.408791</td>\n",
       "      <td>6.396561</td>\n",
       "      <td>1200690.0</td>\n",
       "      <td>1.048611</td>\n",
       "      <td>0.958910</td>\n",
       "    </tr>\n",
       "    <tr>\n",
       "      <th>12</th>\n",
       "      <td>383a6e3a85bf0a1780f5d4198eb4446915de810421cec2...</td>\n",
       "      <td>1</td>\n",
       "      <td>3.288740</td>\n",
       "      <td>2.185045</td>\n",
       "      <td>-0.100899</td>\n",
       "      <td>0.526126</td>\n",
       "      <td>-0.222066</td>\n",
       "      <td>24.894316</td>\n",
       "      <td>19.085974</td>\n",
       "      <td>0.0</td>\n",
       "      <td>0.0</td>\n",
       "      <td>1.0</td>\n",
       "      <td>0.0</td>\n",
       "      <td>24.874610</td>\n",
       "      <td>20.792119</td>\n",
       "      <td>2030799.0</td>\n",
       "      <td>0.988268</td>\n",
       "      <td>0.863685</td>\n",
       "    </tr>\n",
       "    <tr>\n",
       "      <th>13</th>\n",
       "      <td>f1a944afacf2855f9d4a7f78736929cab073a6500b154b...</td>\n",
       "      <td>1</td>\n",
       "      <td>6.228519</td>\n",
       "      <td>7.212626</td>\n",
       "      <td>-0.120813</td>\n",
       "      <td>4.940948</td>\n",
       "      <td>-0.222066</td>\n",
       "      <td>27.676176</td>\n",
       "      <td>-0.496063</td>\n",
       "      <td>0.0</td>\n",
       "      <td>0.0</td>\n",
       "      <td>1.0</td>\n",
       "      <td>0.0</td>\n",
       "      <td>52.160852</td>\n",
       "      <td>24.088918</td>\n",
       "      <td>1665992.0</td>\n",
       "      <td>1.026962</td>\n",
       "      <td>1.046496</td>\n",
       "    </tr>\n",
       "    <tr>\n",
       "      <th>14</th>\n",
       "      <td>c4961aabd81029b036b00224ac688653f659f3691db5a4...</td>\n",
       "      <td>1</td>\n",
       "      <td>0.162199</td>\n",
       "      <td>0.121161</td>\n",
       "      <td>-0.069149</td>\n",
       "      <td>-0.758119</td>\n",
       "      <td>45.119218</td>\n",
       "      <td>0.717648</td>\n",
       "      <td>-0.496063</td>\n",
       "      <td>0.0</td>\n",
       "      <td>0.0</td>\n",
       "      <td>1.0</td>\n",
       "      <td>0.0</td>\n",
       "      <td>3.245478</td>\n",
       "      <td>3.020138</td>\n",
       "      <td>763278.0</td>\n",
       "      <td>0.827156</td>\n",
       "      <td>0.798943</td>\n",
       "    </tr>\n",
       "    <tr>\n",
       "      <th>15</th>\n",
       "      <td>bfbbc1230ebd09695d78ab603eb4a270968b2e33edd77c...</td>\n",
       "      <td>1</td>\n",
       "      <td>2.878842</td>\n",
       "      <td>1.194732</td>\n",
       "      <td>-0.134195</td>\n",
       "      <td>-1.981926</td>\n",
       "      <td>-0.222066</td>\n",
       "      <td>12.194517</td>\n",
       "      <td>4.425814</td>\n",
       "      <td>0.0</td>\n",
       "      <td>0.0</td>\n",
       "      <td>1.0</td>\n",
       "      <td>0.0</td>\n",
       "      <td>36.886326</td>\n",
       "      <td>9.748265</td>\n",
       "      <td>1985893.0</td>\n",
       "      <td>1.048611</td>\n",
       "      <td>0.932993</td>\n",
       "    </tr>\n",
       "    <tr>\n",
       "      <th>16</th>\n",
       "      <td>f3563015bdaaaa92b93b1863ab09e05e02e3e05eca5ca7...</td>\n",
       "      <td>1</td>\n",
       "      <td>2.784579</td>\n",
       "      <td>4.182475</td>\n",
       "      <td>-0.040900</td>\n",
       "      <td>5.303714</td>\n",
       "      <td>-0.166550</td>\n",
       "      <td>0.104840</td>\n",
       "      <td>1.613313</td>\n",
       "      <td>0.0</td>\n",
       "      <td>0.0</td>\n",
       "      <td>1.0</td>\n",
       "      <td>0.0</td>\n",
       "      <td>15.490178</td>\n",
       "      <td>10.799632</td>\n",
       "      <td>1713714.0</td>\n",
       "      <td>1.112136</td>\n",
       "      <td>0.840503</td>\n",
       "    </tr>\n",
       "    <tr>\n",
       "      <th>17</th>\n",
       "      <td>8e58e060528323c4ff3240d34a5d4c5599abfbbf35bd61...</td>\n",
       "      <td>1</td>\n",
       "      <td>3.186328</td>\n",
       "      <td>4.175074</td>\n",
       "      <td>-0.070764</td>\n",
       "      <td>1.598514</td>\n",
       "      <td>-0.166550</td>\n",
       "      <td>-1.588466</td>\n",
       "      <td>2.035188</td>\n",
       "      <td>0.0</td>\n",
       "      <td>0.0</td>\n",
       "      <td>1.0</td>\n",
       "      <td>0.0</td>\n",
       "      <td>19.615455</td>\n",
       "      <td>10.305940</td>\n",
       "      <td>1888241.0</td>\n",
       "      <td>0.465517</td>\n",
       "      <td>0.928678</td>\n",
       "    </tr>\n",
       "    <tr>\n",
       "      <th>18</th>\n",
       "      <td>42a0810385b1cca95d26887759e5cee862020e331027f6...</td>\n",
       "      <td>1</td>\n",
       "      <td>5.777693</td>\n",
       "      <td>0.391334</td>\n",
       "      <td>-0.168556</td>\n",
       "      <td>1.121992</td>\n",
       "      <td>-0.222066</td>\n",
       "      <td>20.661049</td>\n",
       "      <td>7.941440</td>\n",
       "      <td>0.0</td>\n",
       "      <td>0.0</td>\n",
       "      <td>1.0</td>\n",
       "      <td>0.0</td>\n",
       "      <td>21.154362</td>\n",
       "      <td>11.134712</td>\n",
       "      <td>1895005.0</td>\n",
       "      <td>-0.548818</td>\n",
       "      <td>1.050514</td>\n",
       "    </tr>\n",
       "    <tr>\n",
       "      <th>19</th>\n",
       "      <td>ec9b2cfdfe6029ee18e8df6e161962a251e9437402eb1f...</td>\n",
       "      <td>1</td>\n",
       "      <td>6.168997</td>\n",
       "      <td>5.501653</td>\n",
       "      <td>-0.052396</td>\n",
       "      <td>1.262833</td>\n",
       "      <td>-0.222066</td>\n",
       "      <td>15.339229</td>\n",
       "      <td>1.613313</td>\n",
       "      <td>0.0</td>\n",
       "      <td>0.0</td>\n",
       "      <td>1.0</td>\n",
       "      <td>0.0</td>\n",
       "      <td>14.166690</td>\n",
       "      <td>24.413839</td>\n",
       "      <td>2225941.0</td>\n",
       "      <td>0.915130</td>\n",
       "      <td>0.883390</td>\n",
       "    </tr>\n",
       "    <tr>\n",
       "      <th>20</th>\n",
       "      <td>100840be05da268530cf2bca7e570c40ec6e9d8ac4b2f6...</td>\n",
       "      <td>1</td>\n",
       "      <td>-3.550762</td>\n",
       "      <td>-3.520120</td>\n",
       "      <td>-0.150663</td>\n",
       "      <td>-3.081654</td>\n",
       "      <td>-0.194308</td>\n",
       "      <td>-2.074953</td>\n",
       "      <td>-1.199188</td>\n",
       "      <td>1.0</td>\n",
       "      <td>0.0</td>\n",
       "      <td>0.0</td>\n",
       "      <td>0.0</td>\n",
       "      <td>0.103007</td>\n",
       "      <td>-5.416129</td>\n",
       "      <td>27641.0</td>\n",
       "      <td>1.048611</td>\n",
       "      <td>0.988706</td>\n",
       "    </tr>\n",
       "    <tr>\n",
       "      <th>21</th>\n",
       "      <td>95027077e2b19888ee9d06f24e399fb14e8ebd83aa24c9...</td>\n",
       "      <td>1</td>\n",
       "      <td>17.048121</td>\n",
       "      <td>14.384699</td>\n",
       "      <td>-0.082855</td>\n",
       "      <td>5.423057</td>\n",
       "      <td>-0.222066</td>\n",
       "      <td>8.324102</td>\n",
       "      <td>2.316438</td>\n",
       "      <td>0.0</td>\n",
       "      <td>0.0</td>\n",
       "      <td>1.0</td>\n",
       "      <td>0.0</td>\n",
       "      <td>59.337794</td>\n",
       "      <td>40.049797</td>\n",
       "      <td>2734315.0</td>\n",
       "      <td>0.994524</td>\n",
       "      <td>0.895807</td>\n",
       "    </tr>\n",
       "    <tr>\n",
       "      <th>22</th>\n",
       "      <td>ef08b5ed18176794cfc0fe7da45c920569214175523fed...</td>\n",
       "      <td>1</td>\n",
       "      <td>8.905147</td>\n",
       "      <td>2.251117</td>\n",
       "      <td>-0.155646</td>\n",
       "      <td>-1.153131</td>\n",
       "      <td>-0.222066</td>\n",
       "      <td>11.226913</td>\n",
       "      <td>10.753941</td>\n",
       "      <td>0.0</td>\n",
       "      <td>0.0</td>\n",
       "      <td>1.0</td>\n",
       "      <td>0.0</td>\n",
       "      <td>32.358017</td>\n",
       "      <td>25.931391</td>\n",
       "      <td>1728667.0</td>\n",
       "      <td>1.009442</td>\n",
       "      <td>1.046990</td>\n",
       "    </tr>\n",
       "    <tr>\n",
       "      <th>23</th>\n",
       "      <td>e47c7f0b973b3cf28b895c16178f48b5270ef630ca8100...</td>\n",
       "      <td>1</td>\n",
       "      <td>6.417569</td>\n",
       "      <td>3.060418</td>\n",
       "      <td>-0.022485</td>\n",
       "      <td>1.663687</td>\n",
       "      <td>-0.222066</td>\n",
       "      <td>0.462321</td>\n",
       "      <td>37.121136</td>\n",
       "      <td>0.0</td>\n",
       "      <td>1.0</td>\n",
       "      <td>0.0</td>\n",
       "      <td>0.0</td>\n",
       "      <td>14.336398</td>\n",
       "      <td>29.793558</td>\n",
       "      <td>2866842.0</td>\n",
       "      <td>1.048611</td>\n",
       "      <td>0.879741</td>\n",
       "    </tr>\n",
       "    <tr>\n",
       "      <th>24</th>\n",
       "      <td>09d973fe0096f1eecd287cd5fec27405a125356650cee5...</td>\n",
       "      <td>1</td>\n",
       "      <td>5.069206</td>\n",
       "      <td>4.777746</td>\n",
       "      <td>-0.088089</td>\n",
       "      <td>0.937815</td>\n",
       "      <td>-0.222066</td>\n",
       "      <td>0.462321</td>\n",
       "      <td>0.207063</td>\n",
       "      <td>0.0</td>\n",
       "      <td>0.0</td>\n",
       "      <td>1.0</td>\n",
       "      <td>0.0</td>\n",
       "      <td>30.666909</td>\n",
       "      <td>19.521724</td>\n",
       "      <td>838163.0</td>\n",
       "      <td>1.114233</td>\n",
       "      <td>1.051302</td>\n",
       "    </tr>\n",
       "    <tr>\n",
       "      <th>25</th>\n",
       "      <td>165d8b41d4a42e20c789087f90f756353a96df6d395db4...</td>\n",
       "      <td>1</td>\n",
       "      <td>-2.174727</td>\n",
       "      <td>-3.489214</td>\n",
       "      <td>-0.185557</td>\n",
       "      <td>-3.845360</td>\n",
       "      <td>-0.222066</td>\n",
       "      <td>0.099470</td>\n",
       "      <td>-1.199188</td>\n",
       "      <td>0.0</td>\n",
       "      <td>0.0</td>\n",
       "      <td>1.0</td>\n",
       "      <td>0.0</td>\n",
       "      <td>-4.741620</td>\n",
       "      <td>-7.444221</td>\n",
       "      <td>64650.0</td>\n",
       "      <td>1.045070</td>\n",
       "      <td>1.005831</td>\n",
       "    </tr>\n",
       "    <tr>\n",
       "      <th>26</th>\n",
       "      <td>427c9fda50dd548c5bce9058c31183ad29546f12ea5bca...</td>\n",
       "      <td>1</td>\n",
       "      <td>2.572538</td>\n",
       "      <td>1.164761</td>\n",
       "      <td>-0.129248</td>\n",
       "      <td>-0.454343</td>\n",
       "      <td>-0.222066</td>\n",
       "      <td>5.663191</td>\n",
       "      <td>23.726601</td>\n",
       "      <td>0.0</td>\n",
       "      <td>0.0</td>\n",
       "      <td>1.0</td>\n",
       "      <td>0.0</td>\n",
       "      <td>21.342679</td>\n",
       "      <td>9.675760</td>\n",
       "      <td>1268318.0</td>\n",
       "      <td>1.196745</td>\n",
       "      <td>0.878085</td>\n",
       "    </tr>\n",
       "    <tr>\n",
       "      <th>27</th>\n",
       "      <td>f0d80439478562b2d21aee98809b7458e86acd65bfe2f7...</td>\n",
       "      <td>1</td>\n",
       "      <td>2.383261</td>\n",
       "      <td>2.258461</td>\n",
       "      <td>-0.065242</td>\n",
       "      <td>-0.779361</td>\n",
       "      <td>-0.222066</td>\n",
       "      <td>0.220420</td>\n",
       "      <td>4.601595</td>\n",
       "      <td>0.0</td>\n",
       "      <td>0.0</td>\n",
       "      <td>1.0</td>\n",
       "      <td>0.0</td>\n",
       "      <td>42.267800</td>\n",
       "      <td>9.742212</td>\n",
       "      <td>1671039.0</td>\n",
       "      <td>1.044908</td>\n",
       "      <td>0.783147</td>\n",
       "    </tr>\n",
       "    <tr>\n",
       "      <th>28</th>\n",
       "      <td>fab802f38114aba64672bc732ebbe14fcce0dc24f9092c...</td>\n",
       "      <td>1</td>\n",
       "      <td>4.281267</td>\n",
       "      <td>3.952400</td>\n",
       "      <td>-0.158328</td>\n",
       "      <td>1.116575</td>\n",
       "      <td>-0.222066</td>\n",
       "      <td>9.775507</td>\n",
       "      <td>9.070702</td>\n",
       "      <td>0.0</td>\n",
       "      <td>0.0</td>\n",
       "      <td>1.0</td>\n",
       "      <td>0.0</td>\n",
       "      <td>24.466143</td>\n",
       "      <td>21.527801</td>\n",
       "      <td>2274841.0</td>\n",
       "      <td>1.268243</td>\n",
       "      <td>1.044862</td>\n",
       "    </tr>\n",
       "    <tr>\n",
       "      <th>29</th>\n",
       "      <td>b89641ba39d214d49b5beba389cdd23ae50449d750735b...</td>\n",
       "      <td>1</td>\n",
       "      <td>3.749229</td>\n",
       "      <td>3.763648</td>\n",
       "      <td>-0.131049</td>\n",
       "      <td>-0.681856</td>\n",
       "      <td>-0.222066</td>\n",
       "      <td>6.993647</td>\n",
       "      <td>15.398828</td>\n",
       "      <td>0.0</td>\n",
       "      <td>0.0</td>\n",
       "      <td>1.0</td>\n",
       "      <td>0.0</td>\n",
       "      <td>59.528085</td>\n",
       "      <td>26.507778</td>\n",
       "      <td>2781230.0</td>\n",
       "      <td>1.048611</td>\n",
       "      <td>0.974528</td>\n",
       "    </tr>\n",
       "    <tr>\n",
       "      <th>...</th>\n",
       "      <td>...</td>\n",
       "      <td>...</td>\n",
       "      <td>...</td>\n",
       "      <td>...</td>\n",
       "      <td>...</td>\n",
       "      <td>...</td>\n",
       "      <td>...</td>\n",
       "      <td>...</td>\n",
       "      <td>...</td>\n",
       "      <td>...</td>\n",
       "      <td>...</td>\n",
       "      <td>...</td>\n",
       "      <td>...</td>\n",
       "      <td>...</td>\n",
       "      <td>...</td>\n",
       "      <td>...</td>\n",
       "      <td>...</td>\n",
       "      <td>...</td>\n",
       "    </tr>\n",
       "    <tr>\n",
       "      <th>99970</th>\n",
       "      <td>f55bfab06daccea53da0333a202c0fa07be955806d3311...</td>\n",
       "      <td>0</td>\n",
       "      <td>-5.250681</td>\n",
       "      <td>-4.558735</td>\n",
       "      <td>-0.188343</td>\n",
       "      <td>-4.029536</td>\n",
       "      <td>-0.222066</td>\n",
       "      <td>-2.924292</td>\n",
       "      <td>-1.199188</td>\n",
       "      <td>1.0</td>\n",
       "      <td>0.0</td>\n",
       "      <td>0.0</td>\n",
       "      <td>0.0</td>\n",
       "      <td>-7.399467</td>\n",
       "      <td>-12.536964</td>\n",
       "      <td>0.0</td>\n",
       "      <td>1.048611</td>\n",
       "      <td>0.951173</td>\n",
       "    </tr>\n",
       "    <tr>\n",
       "      <th>99971</th>\n",
       "      <td>1b62e50c7514f8810f25fe0a19f4e47f2dc4089c0efcb3...</td>\n",
       "      <td>0</td>\n",
       "      <td>0.024378</td>\n",
       "      <td>-0.095702</td>\n",
       "      <td>-0.023518</td>\n",
       "      <td>0.422608</td>\n",
       "      <td>-0.027758</td>\n",
       "      <td>-0.365536</td>\n",
       "      <td>-1.199188</td>\n",
       "      <td>0.0</td>\n",
       "      <td>0.0</td>\n",
       "      <td>0.0</td>\n",
       "      <td>1.0</td>\n",
       "      <td>-0.730070</td>\n",
       "      <td>0.956701</td>\n",
       "      <td>20237.0</td>\n",
       "      <td>1.048611</td>\n",
       "      <td>0.947090</td>\n",
       "    </tr>\n",
       "    <tr>\n",
       "      <th>99972</th>\n",
       "      <td>63a4555cb7f61e848f122278748967c6383e2e511c9564...</td>\n",
       "      <td>0</td>\n",
       "      <td>6.265747</td>\n",
       "      <td>10.557708</td>\n",
       "      <td>-0.186772</td>\n",
       "      <td>10.092475</td>\n",
       "      <td>-0.222066</td>\n",
       "      <td>-2.924292</td>\n",
       "      <td>-1.199188</td>\n",
       "      <td>1.0</td>\n",
       "      <td>0.0</td>\n",
       "      <td>0.0</td>\n",
       "      <td>0.0</td>\n",
       "      <td>-1.834885</td>\n",
       "      <td>-6.667834</td>\n",
       "      <td>2210272.0</td>\n",
       "      <td>1.048611</td>\n",
       "      <td>0.977362</td>\n",
       "    </tr>\n",
       "    <tr>\n",
       "      <th>99973</th>\n",
       "      <td>528a2e622439977d47e0264fb1df7c880dfdb6da9686a0...</td>\n",
       "      <td>0</td>\n",
       "      <td>-0.650540</td>\n",
       "      <td>-0.566396</td>\n",
       "      <td>-0.023543</td>\n",
       "      <td>-0.498275</td>\n",
       "      <td>-0.027758</td>\n",
       "      <td>-0.365536</td>\n",
       "      <td>-1.199188</td>\n",
       "      <td>0.0</td>\n",
       "      <td>0.0</td>\n",
       "      <td>1.0</td>\n",
       "      <td>0.0</td>\n",
       "      <td>-0.924933</td>\n",
       "      <td>-1.561821</td>\n",
       "      <td>0.0</td>\n",
       "      <td>1.048611</td>\n",
       "      <td>0.951173</td>\n",
       "    </tr>\n",
       "    <tr>\n",
       "      <th>99974</th>\n",
       "      <td>1d7359d1e62c6334cfb17221c4b8e7c4e60147fc4ed388...</td>\n",
       "      <td>0</td>\n",
       "      <td>-0.282754</td>\n",
       "      <td>-4.558735</td>\n",
       "      <td>-0.188343</td>\n",
       "      <td>-4.029536</td>\n",
       "      <td>-0.222066</td>\n",
       "      <td>-2.924292</td>\n",
       "      <td>-1.199188</td>\n",
       "      <td>0.0</td>\n",
       "      <td>1.0</td>\n",
       "      <td>0.0</td>\n",
       "      <td>0.0</td>\n",
       "      <td>-7.399467</td>\n",
       "      <td>-12.536964</td>\n",
       "      <td>0.0</td>\n",
       "      <td>1.048611</td>\n",
       "      <td>0.951173</td>\n",
       "    </tr>\n",
       "    <tr>\n",
       "      <th>99975</th>\n",
       "      <td>149d0a8f3118434e46bf34d32fa229a578773cd0dd2bf1...</td>\n",
       "      <td>0</td>\n",
       "      <td>-2.348484</td>\n",
       "      <td>-1.436586</td>\n",
       "      <td>-0.164593</td>\n",
       "      <td>-0.898619</td>\n",
       "      <td>-0.194308</td>\n",
       "      <td>-2.558755</td>\n",
       "      <td>-1.199188</td>\n",
       "      <td>0.0</td>\n",
       "      <td>0.0</td>\n",
       "      <td>1.0</td>\n",
       "      <td>0.0</td>\n",
       "      <td>-6.120217</td>\n",
       "      <td>-9.791492</td>\n",
       "      <td>155267.0</td>\n",
       "      <td>1.048611</td>\n",
       "      <td>1.021839</td>\n",
       "    </tr>\n",
       "    <tr>\n",
       "      <th>99976</th>\n",
       "      <td>64f164e7c7368ed20a7cd9b0f966f3de7f08ecfd080772...</td>\n",
       "      <td>0</td>\n",
       "      <td>-0.650639</td>\n",
       "      <td>-0.566537</td>\n",
       "      <td>-0.023543</td>\n",
       "      <td>-0.498275</td>\n",
       "      <td>-0.027758</td>\n",
       "      <td>-0.365536</td>\n",
       "      <td>-1.199188</td>\n",
       "      <td>0.0</td>\n",
       "      <td>1.0</td>\n",
       "      <td>0.0</td>\n",
       "      <td>0.0</td>\n",
       "      <td>-0.924933</td>\n",
       "      <td>-1.561821</td>\n",
       "      <td>0.0</td>\n",
       "      <td>1.048611</td>\n",
       "      <td>0.951173</td>\n",
       "    </tr>\n",
       "    <tr>\n",
       "      <th>99977</th>\n",
       "      <td>c812137837c0c0f67b12a836b992d8a87eb6b4d4ad8ad5...</td>\n",
       "      <td>0</td>\n",
       "      <td>-1.307450</td>\n",
       "      <td>-1.136124</td>\n",
       "      <td>-0.047086</td>\n",
       "      <td>-1.001967</td>\n",
       "      <td>-0.055517</td>\n",
       "      <td>-0.731073</td>\n",
       "      <td>-1.199188</td>\n",
       "      <td>0.0</td>\n",
       "      <td>1.0</td>\n",
       "      <td>0.0</td>\n",
       "      <td>0.0</td>\n",
       "      <td>-1.849867</td>\n",
       "      <td>-3.128942</td>\n",
       "      <td>0.0</td>\n",
       "      <td>1.048611</td>\n",
       "      <td>0.951173</td>\n",
       "    </tr>\n",
       "    <tr>\n",
       "      <th>99978</th>\n",
       "      <td>883aa3815c4c872dcd669664aa44d5ddde81facdc3fecf...</td>\n",
       "      <td>0</td>\n",
       "      <td>-0.650451</td>\n",
       "      <td>-0.566904</td>\n",
       "      <td>-0.023543</td>\n",
       "      <td>-0.498275</td>\n",
       "      <td>-0.027758</td>\n",
       "      <td>-0.365536</td>\n",
       "      <td>-1.199188</td>\n",
       "      <td>0.0</td>\n",
       "      <td>0.0</td>\n",
       "      <td>1.0</td>\n",
       "      <td>0.0</td>\n",
       "      <td>-0.924933</td>\n",
       "      <td>-1.561821</td>\n",
       "      <td>0.0</td>\n",
       "      <td>1.048611</td>\n",
       "      <td>0.951173</td>\n",
       "    </tr>\n",
       "    <tr>\n",
       "      <th>99979</th>\n",
       "      <td>9de06585a84038ee97bd4008765e742b0094bfbc6ce2c4...</td>\n",
       "      <td>0</td>\n",
       "      <td>-1.312524</td>\n",
       "      <td>-1.136407</td>\n",
       "      <td>-0.047086</td>\n",
       "      <td>-1.001967</td>\n",
       "      <td>-0.055517</td>\n",
       "      <td>-0.731073</td>\n",
       "      <td>-1.199188</td>\n",
       "      <td>0.0</td>\n",
       "      <td>1.0</td>\n",
       "      <td>0.0</td>\n",
       "      <td>0.0</td>\n",
       "      <td>-1.849867</td>\n",
       "      <td>-3.128942</td>\n",
       "      <td>0.0</td>\n",
       "      <td>1.048611</td>\n",
       "      <td>0.951173</td>\n",
       "    </tr>\n",
       "    <tr>\n",
       "      <th>99980</th>\n",
       "      <td>ece377ff96c40d0e8467055acd9f8370368da403a1025e...</td>\n",
       "      <td>0</td>\n",
       "      <td>-4.600150</td>\n",
       "      <td>-3.988893</td>\n",
       "      <td>-0.164800</td>\n",
       "      <td>-3.525844</td>\n",
       "      <td>-0.194308</td>\n",
       "      <td>-2.558755</td>\n",
       "      <td>-1.199188</td>\n",
       "      <td>0.0</td>\n",
       "      <td>1.0</td>\n",
       "      <td>0.0</td>\n",
       "      <td>0.0</td>\n",
       "      <td>-6.474534</td>\n",
       "      <td>-10.019216</td>\n",
       "      <td>0.0</td>\n",
       "      <td>1.048611</td>\n",
       "      <td>0.951173</td>\n",
       "    </tr>\n",
       "    <tr>\n",
       "      <th>99981</th>\n",
       "      <td>292e88183100c7a7bcd473d5cfc1bf3d9dbfdd46022f0b...</td>\n",
       "      <td>0</td>\n",
       "      <td>1.463908</td>\n",
       "      <td>3.463306</td>\n",
       "      <td>-0.061197</td>\n",
       "      <td>3.266682</td>\n",
       "      <td>-0.083275</td>\n",
       "      <td>2.531905</td>\n",
       "      <td>-1.199188</td>\n",
       "      <td>0.0</td>\n",
       "      <td>0.0</td>\n",
       "      <td>0.0</td>\n",
       "      <td>1.0</td>\n",
       "      <td>-1.779470</td>\n",
       "      <td>1.539762</td>\n",
       "      <td>736439.0</td>\n",
       "      <td>1.048611</td>\n",
       "      <td>0.944044</td>\n",
       "    </tr>\n",
       "    <tr>\n",
       "      <th>99982</th>\n",
       "      <td>db16b602244c1f207232017a6901074b4beef654ded93e...</td>\n",
       "      <td>0</td>\n",
       "      <td>-0.175287</td>\n",
       "      <td>-0.136037</td>\n",
       "      <td>-0.047003</td>\n",
       "      <td>0.168096</td>\n",
       "      <td>-0.055517</td>\n",
       "      <td>-0.731073</td>\n",
       "      <td>-1.199188</td>\n",
       "      <td>0.0</td>\n",
       "      <td>1.0</td>\n",
       "      <td>0.0</td>\n",
       "      <td>0.0</td>\n",
       "      <td>-1.368512</td>\n",
       "      <td>3.721175</td>\n",
       "      <td>4356.0</td>\n",
       "      <td>1.048611</td>\n",
       "      <td>0.937757</td>\n",
       "    </tr>\n",
       "    <tr>\n",
       "      <th>99983</th>\n",
       "      <td>ad9f68ff938944a9d3260b84b894bfd0bb55da20fd8563...</td>\n",
       "      <td>0</td>\n",
       "      <td>-2.998960</td>\n",
       "      <td>-3.164509</td>\n",
       "      <td>-0.140948</td>\n",
       "      <td>-2.447955</td>\n",
       "      <td>-0.166550</td>\n",
       "      <td>3.249552</td>\n",
       "      <td>-1.199188</td>\n",
       "      <td>0.0</td>\n",
       "      <td>0.0</td>\n",
       "      <td>1.0</td>\n",
       "      <td>0.0</td>\n",
       "      <td>-4.285634</td>\n",
       "      <td>-4.415764</td>\n",
       "      <td>148635.0</td>\n",
       "      <td>1.048611</td>\n",
       "      <td>0.867514</td>\n",
       "    </tr>\n",
       "    <tr>\n",
       "      <th>99984</th>\n",
       "      <td>12af2fac0a876e5c6fe06a14ecb64189aba917b07a11d8...</td>\n",
       "      <td>0</td>\n",
       "      <td>2.192478</td>\n",
       "      <td>1.399881</td>\n",
       "      <td>-0.023428</td>\n",
       "      <td>4.100723</td>\n",
       "      <td>-0.027758</td>\n",
       "      <td>-0.365536</td>\n",
       "      <td>-1.199188</td>\n",
       "      <td>0.0</td>\n",
       "      <td>1.0</td>\n",
       "      <td>0.0</td>\n",
       "      <td>0.0</td>\n",
       "      <td>-0.924933</td>\n",
       "      <td>11.838306</td>\n",
       "      <td>23099.0</td>\n",
       "      <td>1.048611</td>\n",
       "      <td>0.941343</td>\n",
       "    </tr>\n",
       "    <tr>\n",
       "      <th>99985</th>\n",
       "      <td>678266ffac502a387d45bdcfbd4865cbfde91a3e651459...</td>\n",
       "      <td>0</td>\n",
       "      <td>-5.222571</td>\n",
       "      <td>-4.558735</td>\n",
       "      <td>-0.188343</td>\n",
       "      <td>-4.029536</td>\n",
       "      <td>-0.222066</td>\n",
       "      <td>-2.924292</td>\n",
       "      <td>5.832064</td>\n",
       "      <td>0.0</td>\n",
       "      <td>0.0</td>\n",
       "      <td>1.0</td>\n",
       "      <td>0.0</td>\n",
       "      <td>-7.399467</td>\n",
       "      <td>-11.586336</td>\n",
       "      <td>0.0</td>\n",
       "      <td>1.048611</td>\n",
       "      <td>0.951173</td>\n",
       "    </tr>\n",
       "    <tr>\n",
       "      <th>99986</th>\n",
       "      <td>bc71d2cc5643ca024b111d61e5cd8d031bda92e93695ac...</td>\n",
       "      <td>0</td>\n",
       "      <td>-1.963470</td>\n",
       "      <td>-1.705458</td>\n",
       "      <td>-0.070629</td>\n",
       "      <td>-1.505659</td>\n",
       "      <td>-0.083275</td>\n",
       "      <td>-1.096609</td>\n",
       "      <td>-1.199188</td>\n",
       "      <td>0.0</td>\n",
       "      <td>1.0</td>\n",
       "      <td>0.0</td>\n",
       "      <td>0.0</td>\n",
       "      <td>-2.774800</td>\n",
       "      <td>-4.696062</td>\n",
       "      <td>0.0</td>\n",
       "      <td>1.048611</td>\n",
       "      <td>0.951173</td>\n",
       "    </tr>\n",
       "    <tr>\n",
       "      <th>99987</th>\n",
       "      <td>fabf0638b854e30179d93882b21a2465502c18b2345f0f...</td>\n",
       "      <td>0</td>\n",
       "      <td>-0.659719</td>\n",
       "      <td>-0.569842</td>\n",
       "      <td>-0.023543</td>\n",
       "      <td>-0.503692</td>\n",
       "      <td>-0.027758</td>\n",
       "      <td>-0.365536</td>\n",
       "      <td>-1.199188</td>\n",
       "      <td>1.0</td>\n",
       "      <td>0.0</td>\n",
       "      <td>0.0</td>\n",
       "      <td>0.0</td>\n",
       "      <td>-0.924933</td>\n",
       "      <td>-1.567120</td>\n",
       "      <td>0.0</td>\n",
       "      <td>1.048611</td>\n",
       "      <td>0.951173</td>\n",
       "    </tr>\n",
       "    <tr>\n",
       "      <th>99988</th>\n",
       "      <td>b59b9a16f3f4b3c481e6437e3c327bdbbe837b3bd14408...</td>\n",
       "      <td>0</td>\n",
       "      <td>-3.267362</td>\n",
       "      <td>-2.738504</td>\n",
       "      <td>-0.141108</td>\n",
       "      <td>-2.610463</td>\n",
       "      <td>-0.166550</td>\n",
       "      <td>-2.193219</td>\n",
       "      <td>-1.199188</td>\n",
       "      <td>0.0</td>\n",
       "      <td>1.0</td>\n",
       "      <td>0.0</td>\n",
       "      <td>0.0</td>\n",
       "      <td>-5.075388</td>\n",
       "      <td>-5.789507</td>\n",
       "      <td>6640.0</td>\n",
       "      <td>1.048611</td>\n",
       "      <td>0.953572</td>\n",
       "    </tr>\n",
       "    <tr>\n",
       "      <th>99989</th>\n",
       "      <td>3714c56cd3ae296093d8dd45b6a91cae594eb175c4ec9a...</td>\n",
       "      <td>0</td>\n",
       "      <td>-3.553539</td>\n",
       "      <td>-2.893867</td>\n",
       "      <td>-0.141230</td>\n",
       "      <td>-2.680884</td>\n",
       "      <td>-0.166550</td>\n",
       "      <td>-2.193219</td>\n",
       "      <td>-1.199188</td>\n",
       "      <td>1.0</td>\n",
       "      <td>0.0</td>\n",
       "      <td>0.0</td>\n",
       "      <td>0.0</td>\n",
       "      <td>-5.173681</td>\n",
       "      <td>-9.095240</td>\n",
       "      <td>30725.0</td>\n",
       "      <td>1.048611</td>\n",
       "      <td>0.940071</td>\n",
       "    </tr>\n",
       "    <tr>\n",
       "      <th>99990</th>\n",
       "      <td>51e54d1916621504f26d971da9bea852e4af7b3ad49e3d...</td>\n",
       "      <td>0</td>\n",
       "      <td>1.789899</td>\n",
       "      <td>1.794616</td>\n",
       "      <td>-0.023429</td>\n",
       "      <td>1.966441</td>\n",
       "      <td>-0.027758</td>\n",
       "      <td>1.569671</td>\n",
       "      <td>-1.199188</td>\n",
       "      <td>0.0</td>\n",
       "      <td>0.0</td>\n",
       "      <td>0.0</td>\n",
       "      <td>1.0</td>\n",
       "      <td>-0.811761</td>\n",
       "      <td>5.422076</td>\n",
       "      <td>134126.0</td>\n",
       "      <td>1.048611</td>\n",
       "      <td>0.973335</td>\n",
       "    </tr>\n",
       "    <tr>\n",
       "      <th>99991</th>\n",
       "      <td>663a628616327412e5f02ed8d99d9a614e875e5b97a63b...</td>\n",
       "      <td>0</td>\n",
       "      <td>-1.960038</td>\n",
       "      <td>-1.706475</td>\n",
       "      <td>-0.070629</td>\n",
       "      <td>-1.505659</td>\n",
       "      <td>-0.083275</td>\n",
       "      <td>-1.096609</td>\n",
       "      <td>-1.199188</td>\n",
       "      <td>1.0</td>\n",
       "      <td>0.0</td>\n",
       "      <td>0.0</td>\n",
       "      <td>0.0</td>\n",
       "      <td>-2.774800</td>\n",
       "      <td>-4.696062</td>\n",
       "      <td>44.0</td>\n",
       "      <td>1.048611</td>\n",
       "      <td>0.951173</td>\n",
       "    </tr>\n",
       "    <tr>\n",
       "      <th>99992</th>\n",
       "      <td>ccefa4912a08cbc31a35c344d91dfef6060c1d71081bed...</td>\n",
       "      <td>0</td>\n",
       "      <td>-0.642559</td>\n",
       "      <td>-0.566565</td>\n",
       "      <td>-0.023543</td>\n",
       "      <td>-0.498275</td>\n",
       "      <td>-0.027758</td>\n",
       "      <td>-0.365536</td>\n",
       "      <td>-1.199188</td>\n",
       "      <td>1.0</td>\n",
       "      <td>0.0</td>\n",
       "      <td>0.0</td>\n",
       "      <td>0.0</td>\n",
       "      <td>-0.924933</td>\n",
       "      <td>-1.561821</td>\n",
       "      <td>0.0</td>\n",
       "      <td>1.048611</td>\n",
       "      <td>0.951173</td>\n",
       "    </tr>\n",
       "    <tr>\n",
       "      <th>99993</th>\n",
       "      <td>ca3fad37e6c5b0faebee3f987951bddcc79e7c8b7ecb06...</td>\n",
       "      <td>0</td>\n",
       "      <td>4.623519</td>\n",
       "      <td>3.613554</td>\n",
       "      <td>-0.046886</td>\n",
       "      <td>3.905798</td>\n",
       "      <td>-0.055517</td>\n",
       "      <td>-0.731073</td>\n",
       "      <td>-1.199188</td>\n",
       "      <td>0.0</td>\n",
       "      <td>1.0</td>\n",
       "      <td>0.0</td>\n",
       "      <td>0.0</td>\n",
       "      <td>-1.849867</td>\n",
       "      <td>26.293423</td>\n",
       "      <td>109213.0</td>\n",
       "      <td>1.048611</td>\n",
       "      <td>0.937490</td>\n",
       "    </tr>\n",
       "    <tr>\n",
       "      <th>99994</th>\n",
       "      <td>283968791a8586bd696ea83a36b0adb065b26020035878...</td>\n",
       "      <td>0</td>\n",
       "      <td>-3.940718</td>\n",
       "      <td>-3.419051</td>\n",
       "      <td>-0.141257</td>\n",
       "      <td>-3.022152</td>\n",
       "      <td>-0.166550</td>\n",
       "      <td>-2.193219</td>\n",
       "      <td>-1.199188</td>\n",
       "      <td>0.0</td>\n",
       "      <td>1.0</td>\n",
       "      <td>0.0</td>\n",
       "      <td>0.0</td>\n",
       "      <td>-5.549601</td>\n",
       "      <td>-8.452095</td>\n",
       "      <td>0.0</td>\n",
       "      <td>1.048611</td>\n",
       "      <td>0.951173</td>\n",
       "    </tr>\n",
       "    <tr>\n",
       "      <th>99995</th>\n",
       "      <td>681d2b3b4b0cb053601d2dee9b0bd39bbff26ec1e65602...</td>\n",
       "      <td>0</td>\n",
       "      <td>-0.658947</td>\n",
       "      <td>-0.569842</td>\n",
       "      <td>-0.023543</td>\n",
       "      <td>-0.503692</td>\n",
       "      <td>-0.027758</td>\n",
       "      <td>-0.365536</td>\n",
       "      <td>-1.199188</td>\n",
       "      <td>0.0</td>\n",
       "      <td>1.0</td>\n",
       "      <td>0.0</td>\n",
       "      <td>0.0</td>\n",
       "      <td>-0.924933</td>\n",
       "      <td>-1.567120</td>\n",
       "      <td>0.0</td>\n",
       "      <td>1.048611</td>\n",
       "      <td>0.951173</td>\n",
       "    </tr>\n",
       "    <tr>\n",
       "      <th>99996</th>\n",
       "      <td>64067d31e859fec38d061a4f8aed483582812721387135...</td>\n",
       "      <td>0</td>\n",
       "      <td>-0.648988</td>\n",
       "      <td>-0.566000</td>\n",
       "      <td>-0.023543</td>\n",
       "      <td>-0.498275</td>\n",
       "      <td>-0.027758</td>\n",
       "      <td>-0.365536</td>\n",
       "      <td>-1.199188</td>\n",
       "      <td>1.0</td>\n",
       "      <td>0.0</td>\n",
       "      <td>0.0</td>\n",
       "      <td>0.0</td>\n",
       "      <td>-0.924933</td>\n",
       "      <td>-1.561821</td>\n",
       "      <td>0.0</td>\n",
       "      <td>1.048611</td>\n",
       "      <td>0.951173</td>\n",
       "    </tr>\n",
       "    <tr>\n",
       "      <th>99997</th>\n",
       "      <td>50432819cad2a56e7ac4ee3a05389e4450339791b13824...</td>\n",
       "      <td>0</td>\n",
       "      <td>10.291920</td>\n",
       "      <td>18.881894</td>\n",
       "      <td>-0.098988</td>\n",
       "      <td>13.196223</td>\n",
       "      <td>-0.166550</td>\n",
       "      <td>1.556246</td>\n",
       "      <td>-1.199188</td>\n",
       "      <td>0.0</td>\n",
       "      <td>0.0</td>\n",
       "      <td>0.0</td>\n",
       "      <td>1.0</td>\n",
       "      <td>-5.327663</td>\n",
       "      <td>2.640121</td>\n",
       "      <td>3868094.0</td>\n",
       "      <td>1.048611</td>\n",
       "      <td>0.942854</td>\n",
       "    </tr>\n",
       "    <tr>\n",
       "      <th>99998</th>\n",
       "      <td>2b1dd159278e330d1e898f4202c09aa6be22cfb1aac6b7...</td>\n",
       "      <td>0</td>\n",
       "      <td>-3.180310</td>\n",
       "      <td>-2.264613</td>\n",
       "      <td>-0.188237</td>\n",
       "      <td>-1.088128</td>\n",
       "      <td>-0.222066</td>\n",
       "      <td>-2.924292</td>\n",
       "      <td>-1.199188</td>\n",
       "      <td>0.0</td>\n",
       "      <td>0.0</td>\n",
       "      <td>0.0</td>\n",
       "      <td>1.0</td>\n",
       "      <td>-6.785095</td>\n",
       "      <td>-11.547351</td>\n",
       "      <td>446346.0</td>\n",
       "      <td>1.048611</td>\n",
       "      <td>0.960513</td>\n",
       "    </tr>\n",
       "    <tr>\n",
       "      <th>99999</th>\n",
       "      <td>7b08dab0401bf3f2ab44bfdfa0b0c2b93d6bed5d8e4350...</td>\n",
       "      <td>0</td>\n",
       "      <td>-0.650916</td>\n",
       "      <td>-0.567187</td>\n",
       "      <td>-0.023543</td>\n",
       "      <td>-0.498275</td>\n",
       "      <td>-0.027758</td>\n",
       "      <td>-0.365536</td>\n",
       "      <td>-1.199188</td>\n",
       "      <td>0.0</td>\n",
       "      <td>1.0</td>\n",
       "      <td>0.0</td>\n",
       "      <td>0.0</td>\n",
       "      <td>-0.924933</td>\n",
       "      <td>-1.561821</td>\n",
       "      <td>0.0</td>\n",
       "      <td>1.048611</td>\n",
       "      <td>0.951173</td>\n",
       "    </tr>\n",
       "  </tbody>\n",
       "</table>\n",
       "<p>100000 rows × 18 columns</p>\n",
       "</div>"
      ],
      "text/plain": [
       "                                                  acc_id  guild  play_time  \\\n",
       "0      ba86804424a9a3708b1564a7726783612a75a5b881095e...      1   2.055999   \n",
       "1      ddea37c9b636c4b1650414052f6ede370481e9e236b193...      1  -0.642371   \n",
       "2      b178c21c7e3a1a404dc6b8048d719f1e33873ab8b05a41...      1  -2.910908   \n",
       "3      25810af9e9cff193561a77da73684a3113c3c1539168b1...      1  -1.988991   \n",
       "4      464de00738deff449aabcdfe7f670e2fc0eb9fa3c9cd89...      1   0.910800   \n",
       "5      df69740fd9b58b4353ac3d38c1ec38e7f5366a4bdbed9c...      1   5.229929   \n",
       "6      37273bc48cbb089e8bc6bf3eb3e155c73e1dd745e3606e...      1  -1.373555   \n",
       "7      03be59a8e01f2f5fdd42e8a74041b69f6b148257214f0c...      1   7.480646   \n",
       "8      80562643e3d956ded3244d6ef950243578d45a74a4e007...      1   5.921157   \n",
       "9      16b864bc8351dc9f27b738a22bbfde3b0355e3be54d191...      1  14.419799   \n",
       "10     6cf455a5de8cd3a5f6992173348704c759e36cca29962e...      1  -1.547037   \n",
       "11     c277f91cbcda1dc7a1eaa9363615b1d775d41704478475...      1   3.122587   \n",
       "12     383a6e3a85bf0a1780f5d4198eb4446915de810421cec2...      1   3.288740   \n",
       "13     f1a944afacf2855f9d4a7f78736929cab073a6500b154b...      1   6.228519   \n",
       "14     c4961aabd81029b036b00224ac688653f659f3691db5a4...      1   0.162199   \n",
       "15     bfbbc1230ebd09695d78ab603eb4a270968b2e33edd77c...      1   2.878842   \n",
       "16     f3563015bdaaaa92b93b1863ab09e05e02e3e05eca5ca7...      1   2.784579   \n",
       "17     8e58e060528323c4ff3240d34a5d4c5599abfbbf35bd61...      1   3.186328   \n",
       "18     42a0810385b1cca95d26887759e5cee862020e331027f6...      1   5.777693   \n",
       "19     ec9b2cfdfe6029ee18e8df6e161962a251e9437402eb1f...      1   6.168997   \n",
       "20     100840be05da268530cf2bca7e570c40ec6e9d8ac4b2f6...      1  -3.550762   \n",
       "21     95027077e2b19888ee9d06f24e399fb14e8ebd83aa24c9...      1  17.048121   \n",
       "22     ef08b5ed18176794cfc0fe7da45c920569214175523fed...      1   8.905147   \n",
       "23     e47c7f0b973b3cf28b895c16178f48b5270ef630ca8100...      1   6.417569   \n",
       "24     09d973fe0096f1eecd287cd5fec27405a125356650cee5...      1   5.069206   \n",
       "25     165d8b41d4a42e20c789087f90f756353a96df6d395db4...      1  -2.174727   \n",
       "26     427c9fda50dd548c5bce9058c31183ad29546f12ea5bca...      1   2.572538   \n",
       "27     f0d80439478562b2d21aee98809b7458e86acd65bfe2f7...      1   2.383261   \n",
       "28     fab802f38114aba64672bc732ebbe14fcce0dc24f9092c...      1   4.281267   \n",
       "29     b89641ba39d214d49b5beba389cdd23ae50449d750735b...      1   3.749229   \n",
       "...                                                  ...    ...        ...   \n",
       "99970  f55bfab06daccea53da0333a202c0fa07be955806d3311...      0  -5.250681   \n",
       "99971  1b62e50c7514f8810f25fe0a19f4e47f2dc4089c0efcb3...      0   0.024378   \n",
       "99972  63a4555cb7f61e848f122278748967c6383e2e511c9564...      0   6.265747   \n",
       "99973  528a2e622439977d47e0264fb1df7c880dfdb6da9686a0...      0  -0.650540   \n",
       "99974  1d7359d1e62c6334cfb17221c4b8e7c4e60147fc4ed388...      0  -0.282754   \n",
       "99975  149d0a8f3118434e46bf34d32fa229a578773cd0dd2bf1...      0  -2.348484   \n",
       "99976  64f164e7c7368ed20a7cd9b0f966f3de7f08ecfd080772...      0  -0.650639   \n",
       "99977  c812137837c0c0f67b12a836b992d8a87eb6b4d4ad8ad5...      0  -1.307450   \n",
       "99978  883aa3815c4c872dcd669664aa44d5ddde81facdc3fecf...      0  -0.650451   \n",
       "99979  9de06585a84038ee97bd4008765e742b0094bfbc6ce2c4...      0  -1.312524   \n",
       "99980  ece377ff96c40d0e8467055acd9f8370368da403a1025e...      0  -4.600150   \n",
       "99981  292e88183100c7a7bcd473d5cfc1bf3d9dbfdd46022f0b...      0   1.463908   \n",
       "99982  db16b602244c1f207232017a6901074b4beef654ded93e...      0  -0.175287   \n",
       "99983  ad9f68ff938944a9d3260b84b894bfd0bb55da20fd8563...      0  -2.998960   \n",
       "99984  12af2fac0a876e5c6fe06a14ecb64189aba917b07a11d8...      0   2.192478   \n",
       "99985  678266ffac502a387d45bdcfbd4865cbfde91a3e651459...      0  -5.222571   \n",
       "99986  bc71d2cc5643ca024b111d61e5cd8d031bda92e93695ac...      0  -1.963470   \n",
       "99987  fabf0638b854e30179d93882b21a2465502c18b2345f0f...      0  -0.659719   \n",
       "99988  b59b9a16f3f4b3c481e6437e3c327bdbbe837b3bd14408...      0  -3.267362   \n",
       "99989  3714c56cd3ae296093d8dd45b6a91cae594eb175c4ec9a...      0  -3.553539   \n",
       "99990  51e54d1916621504f26d971da9bea852e4af7b3ad49e3d...      0   1.789899   \n",
       "99991  663a628616327412e5f02ed8d99d9a614e875e5b97a63b...      0  -1.960038   \n",
       "99992  ccefa4912a08cbc31a35c344d91dfef6060c1d71081bed...      0  -0.642559   \n",
       "99993  ca3fad37e6c5b0faebee3f987951bddcc79e7c8b7ecb06...      0   4.623519   \n",
       "99994  283968791a8586bd696ea83a36b0adb065b26020035878...      0  -3.940718   \n",
       "99995  681d2b3b4b0cb053601d2dee9b0bd39bbff26ec1e65602...      0  -0.658947   \n",
       "99996  64067d31e859fec38d061a4f8aed483582812721387135...      0  -0.648988   \n",
       "99997  50432819cad2a56e7ac4ee3a05389e4450339791b13824...      0  10.291920   \n",
       "99998  2b1dd159278e330d1e898f4202c09aa6be22cfb1aac6b7...      0  -3.180310   \n",
       "99999  7b08dab0401bf3f2ab44bfdfa0b0c2b93d6bed5d8e4350...      0  -0.650916   \n",
       "\n",
       "       game_combat_time  get_money  cnt_use_buffitem  gathering_cnt  \\\n",
       "0              3.303208  -0.064372         -2.426116      -0.222066   \n",
       "1             -0.569842  -0.023543         -0.503692      -0.027758   \n",
       "2             -2.024365  -0.153370         -1.250636      -0.222066   \n",
       "3             -2.475399  -0.185975         -2.789053      -0.222066   \n",
       "4              2.593565  -0.171723          2.080793      -0.222066   \n",
       "5              3.137308   0.061717          5.287633      -0.222066   \n",
       "6             -0.824481  -0.179948         -1.738163      -0.222066   \n",
       "7              1.806834  -0.106694         -0.958121      -0.222066   \n",
       "8              2.220411  -0.092854         -2.079431      -0.222066   \n",
       "9              7.250676   0.062136          1.029903      -0.222066   \n",
       "10            -1.961231  -0.185263         -0.936453      -0.222066   \n",
       "11             0.824628   0.025131         -1.082711      -0.222066   \n",
       "12             2.185045  -0.100899          0.526126      -0.222066   \n",
       "13             7.212626  -0.120813          4.940948      -0.222066   \n",
       "14             0.121161  -0.069149         -0.758119      45.119218   \n",
       "15             1.194732  -0.134195         -1.981926      -0.222066   \n",
       "16             4.182475  -0.040900          5.303714      -0.166550   \n",
       "17             4.175074  -0.070764          1.598514      -0.166550   \n",
       "18             0.391334  -0.168556          1.121992      -0.222066   \n",
       "19             5.501653  -0.052396          1.262833      -0.222066   \n",
       "20            -3.520120  -0.150663         -3.081654      -0.194308   \n",
       "21            14.384699  -0.082855          5.423057      -0.222066   \n",
       "22             2.251117  -0.155646         -1.153131      -0.222066   \n",
       "23             3.060418  -0.022485          1.663687      -0.222066   \n",
       "24             4.777746  -0.088089          0.937815      -0.222066   \n",
       "25            -3.489214  -0.185557         -3.845360      -0.222066   \n",
       "26             1.164761  -0.129248         -0.454343      -0.222066   \n",
       "27             2.258461  -0.065242         -0.779361      -0.222066   \n",
       "28             3.952400  -0.158328          1.116575      -0.222066   \n",
       "29             3.763648  -0.131049         -0.681856      -0.222066   \n",
       "...                 ...        ...               ...            ...   \n",
       "99970         -4.558735  -0.188343         -4.029536      -0.222066   \n",
       "99971         -0.095702  -0.023518          0.422608      -0.027758   \n",
       "99972         10.557708  -0.186772         10.092475      -0.222066   \n",
       "99973         -0.566396  -0.023543         -0.498275      -0.027758   \n",
       "99974         -4.558735  -0.188343         -4.029536      -0.222066   \n",
       "99975         -1.436586  -0.164593         -0.898619      -0.194308   \n",
       "99976         -0.566537  -0.023543         -0.498275      -0.027758   \n",
       "99977         -1.136124  -0.047086         -1.001967      -0.055517   \n",
       "99978         -0.566904  -0.023543         -0.498275      -0.027758   \n",
       "99979         -1.136407  -0.047086         -1.001967      -0.055517   \n",
       "99980         -3.988893  -0.164800         -3.525844      -0.194308   \n",
       "99981          3.463306  -0.061197          3.266682      -0.083275   \n",
       "99982         -0.136037  -0.047003          0.168096      -0.055517   \n",
       "99983         -3.164509  -0.140948         -2.447955      -0.166550   \n",
       "99984          1.399881  -0.023428          4.100723      -0.027758   \n",
       "99985         -4.558735  -0.188343         -4.029536      -0.222066   \n",
       "99986         -1.705458  -0.070629         -1.505659      -0.083275   \n",
       "99987         -0.569842  -0.023543         -0.503692      -0.027758   \n",
       "99988         -2.738504  -0.141108         -2.610463      -0.166550   \n",
       "99989         -2.893867  -0.141230         -2.680884      -0.166550   \n",
       "99990          1.794616  -0.023429          1.966441      -0.027758   \n",
       "99991         -1.706475  -0.070629         -1.505659      -0.083275   \n",
       "99992         -0.566565  -0.023543         -0.498275      -0.027758   \n",
       "99993          3.613554  -0.046886          3.905798      -0.055517   \n",
       "99994         -3.419051  -0.141257         -3.022152      -0.166550   \n",
       "99995         -0.569842  -0.023543         -0.503692      -0.027758   \n",
       "99996         -0.566000  -0.023543         -0.498275      -0.027758   \n",
       "99997         18.881894  -0.098988         13.196223      -0.166550   \n",
       "99998         -2.264613  -0.188237         -1.088128      -0.222066   \n",
       "99999         -0.567187  -0.023543         -0.498275      -0.027758   \n",
       "\n",
       "       making_cnt  payment_amount  2month  month  retained  week       chat  \\\n",
       "0        4.332736        2.316438     0.0    0.0       1.0   0.0  14.999690   \n",
       "1       -0.365536       -1.199188     0.0    0.0       0.0   1.0  -0.919453   \n",
       "2        0.825173        0.558625     0.0    0.0       1.0   0.0  -2.014938   \n",
       "3        2.034677       -0.496063     0.0    1.0       0.0   0.0  -1.096295   \n",
       "4        3.727984       -1.199188     0.0    0.0       1.0   0.0  13.386918   \n",
       "5       20.902950        4.425814     0.0    0.0       1.0   0.0  50.249777   \n",
       "6        3.848934        0.558625     0.0    0.0       1.0   0.0  -1.050178   \n",
       "7        4.695588        9.734409     0.0    0.0       1.0   0.0  17.820267   \n",
       "8        6.026043        1.261750     0.0    0.0       1.0   0.0  20.627391   \n",
       "9        6.146993       17.433630     0.0    0.0       1.0   0.0  27.482478   \n",
       "10       4.574637       -1.199188     0.0    0.0       1.0   0.0   1.054051   \n",
       "11       2.760380       -1.199188     0.0    0.0       1.0   0.0  17.408791   \n",
       "12      24.894316       19.085974     0.0    0.0       1.0   0.0  24.874610   \n",
       "13      27.676176       -0.496063     0.0    0.0       1.0   0.0  52.160852   \n",
       "14       0.717648       -0.496063     0.0    0.0       1.0   0.0   3.245478   \n",
       "15      12.194517        4.425814     0.0    0.0       1.0   0.0  36.886326   \n",
       "16       0.104840        1.613313     0.0    0.0       1.0   0.0  15.490178   \n",
       "17      -1.588466        2.035188     0.0    0.0       1.0   0.0  19.615455   \n",
       "18      20.661049        7.941440     0.0    0.0       1.0   0.0  21.154362   \n",
       "19      15.339229        1.613313     0.0    0.0       1.0   0.0  14.166690   \n",
       "20      -2.074953       -1.199188     1.0    0.0       0.0   0.0   0.103007   \n",
       "21       8.324102        2.316438     0.0    0.0       1.0   0.0  59.337794   \n",
       "22      11.226913       10.753941     0.0    0.0       1.0   0.0  32.358017   \n",
       "23       0.462321       37.121136     0.0    1.0       0.0   0.0  14.336398   \n",
       "24       0.462321        0.207063     0.0    0.0       1.0   0.0  30.666909   \n",
       "25       0.099470       -1.199188     0.0    0.0       1.0   0.0  -4.741620   \n",
       "26       5.663191       23.726601     0.0    0.0       1.0   0.0  21.342679   \n",
       "27       0.220420        4.601595     0.0    0.0       1.0   0.0  42.267800   \n",
       "28       9.775507        9.070702     0.0    0.0       1.0   0.0  24.466143   \n",
       "29       6.993647       15.398828     0.0    0.0       1.0   0.0  59.528085   \n",
       "...           ...             ...     ...    ...       ...   ...        ...   \n",
       "99970   -2.924292       -1.199188     1.0    0.0       0.0   0.0  -7.399467   \n",
       "99971   -0.365536       -1.199188     0.0    0.0       0.0   1.0  -0.730070   \n",
       "99972   -2.924292       -1.199188     1.0    0.0       0.0   0.0  -1.834885   \n",
       "99973   -0.365536       -1.199188     0.0    0.0       1.0   0.0  -0.924933   \n",
       "99974   -2.924292       -1.199188     0.0    1.0       0.0   0.0  -7.399467   \n",
       "99975   -2.558755       -1.199188     0.0    0.0       1.0   0.0  -6.120217   \n",
       "99976   -0.365536       -1.199188     0.0    1.0       0.0   0.0  -0.924933   \n",
       "99977   -0.731073       -1.199188     0.0    1.0       0.0   0.0  -1.849867   \n",
       "99978   -0.365536       -1.199188     0.0    0.0       1.0   0.0  -0.924933   \n",
       "99979   -0.731073       -1.199188     0.0    1.0       0.0   0.0  -1.849867   \n",
       "99980   -2.558755       -1.199188     0.0    1.0       0.0   0.0  -6.474534   \n",
       "99981    2.531905       -1.199188     0.0    0.0       0.0   1.0  -1.779470   \n",
       "99982   -0.731073       -1.199188     0.0    1.0       0.0   0.0  -1.368512   \n",
       "99983    3.249552       -1.199188     0.0    0.0       1.0   0.0  -4.285634   \n",
       "99984   -0.365536       -1.199188     0.0    1.0       0.0   0.0  -0.924933   \n",
       "99985   -2.924292        5.832064     0.0    0.0       1.0   0.0  -7.399467   \n",
       "99986   -1.096609       -1.199188     0.0    1.0       0.0   0.0  -2.774800   \n",
       "99987   -0.365536       -1.199188     1.0    0.0       0.0   0.0  -0.924933   \n",
       "99988   -2.193219       -1.199188     0.0    1.0       0.0   0.0  -5.075388   \n",
       "99989   -2.193219       -1.199188     1.0    0.0       0.0   0.0  -5.173681   \n",
       "99990    1.569671       -1.199188     0.0    0.0       0.0   1.0  -0.811761   \n",
       "99991   -1.096609       -1.199188     1.0    0.0       0.0   0.0  -2.774800   \n",
       "99992   -0.365536       -1.199188     1.0    0.0       0.0   0.0  -0.924933   \n",
       "99993   -0.731073       -1.199188     0.0    1.0       0.0   0.0  -1.849867   \n",
       "99994   -2.193219       -1.199188     0.0    1.0       0.0   0.0  -5.549601   \n",
       "99995   -0.365536       -1.199188     0.0    1.0       0.0   0.0  -0.924933   \n",
       "99996   -0.365536       -1.199188     1.0    0.0       0.0   0.0  -0.924933   \n",
       "99997    1.556246       -1.199188     0.0    0.0       0.0   1.0  -5.327663   \n",
       "99998   -2.924292       -1.199188     0.0    0.0       0.0   1.0  -6.785095   \n",
       "99999   -0.365536       -1.199188     0.0    1.0       0.0   0.0  -0.924933   \n",
       "\n",
       "             exp  party_time  winRatio  clearRatio  \n",
       "0       9.591816   1762772.0  1.100292    0.893090  \n",
       "1      -1.567120         0.0  1.048611    0.951173  \n",
       "2      -4.765902    297430.0 -1.903478    1.215634  \n",
       "3      -6.858369    152529.0  1.079804    0.930629  \n",
       "4      10.732284    783386.0  1.093656    0.891341  \n",
       "5      21.409978   1296244.0  0.863768    0.880554  \n",
       "6       6.939676    170986.0  1.486360    1.117428  \n",
       "7      42.449733   1579330.0  1.198552    0.765218  \n",
       "8      14.519981   2736065.0  1.062684    0.906487  \n",
       "9      53.865746   3140999.0  0.965777    0.931989  \n",
       "10     -0.655615    438103.0  1.057390    1.011550  \n",
       "11      6.396561   1200690.0  1.048611    0.958910  \n",
       "12     20.792119   2030799.0  0.988268    0.863685  \n",
       "13     24.088918   1665992.0  1.026962    1.046496  \n",
       "14      3.020138    763278.0  0.827156    0.798943  \n",
       "15      9.748265   1985893.0  1.048611    0.932993  \n",
       "16     10.799632   1713714.0  1.112136    0.840503  \n",
       "17     10.305940   1888241.0  0.465517    0.928678  \n",
       "18     11.134712   1895005.0 -0.548818    1.050514  \n",
       "19     24.413839   2225941.0  0.915130    0.883390  \n",
       "20     -5.416129     27641.0  1.048611    0.988706  \n",
       "21     40.049797   2734315.0  0.994524    0.895807  \n",
       "22     25.931391   1728667.0  1.009442    1.046990  \n",
       "23     29.793558   2866842.0  1.048611    0.879741  \n",
       "24     19.521724    838163.0  1.114233    1.051302  \n",
       "25     -7.444221     64650.0  1.045070    1.005831  \n",
       "26      9.675760   1268318.0  1.196745    0.878085  \n",
       "27      9.742212   1671039.0  1.044908    0.783147  \n",
       "28     21.527801   2274841.0  1.268243    1.044862  \n",
       "29     26.507778   2781230.0  1.048611    0.974528  \n",
       "...          ...         ...       ...         ...  \n",
       "99970 -12.536964         0.0  1.048611    0.951173  \n",
       "99971   0.956701     20237.0  1.048611    0.947090  \n",
       "99972  -6.667834   2210272.0  1.048611    0.977362  \n",
       "99973  -1.561821         0.0  1.048611    0.951173  \n",
       "99974 -12.536964         0.0  1.048611    0.951173  \n",
       "99975  -9.791492    155267.0  1.048611    1.021839  \n",
       "99976  -1.561821         0.0  1.048611    0.951173  \n",
       "99977  -3.128942         0.0  1.048611    0.951173  \n",
       "99978  -1.561821         0.0  1.048611    0.951173  \n",
       "99979  -3.128942         0.0  1.048611    0.951173  \n",
       "99980 -10.019216         0.0  1.048611    0.951173  \n",
       "99981   1.539762    736439.0  1.048611    0.944044  \n",
       "99982   3.721175      4356.0  1.048611    0.937757  \n",
       "99983  -4.415764    148635.0  1.048611    0.867514  \n",
       "99984  11.838306     23099.0  1.048611    0.941343  \n",
       "99985 -11.586336         0.0  1.048611    0.951173  \n",
       "99986  -4.696062         0.0  1.048611    0.951173  \n",
       "99987  -1.567120         0.0  1.048611    0.951173  \n",
       "99988  -5.789507      6640.0  1.048611    0.953572  \n",
       "99989  -9.095240     30725.0  1.048611    0.940071  \n",
       "99990   5.422076    134126.0  1.048611    0.973335  \n",
       "99991  -4.696062        44.0  1.048611    0.951173  \n",
       "99992  -1.561821         0.0  1.048611    0.951173  \n",
       "99993  26.293423    109213.0  1.048611    0.937490  \n",
       "99994  -8.452095         0.0  1.048611    0.951173  \n",
       "99995  -1.567120         0.0  1.048611    0.951173  \n",
       "99996  -1.561821         0.0  1.048611    0.951173  \n",
       "99997   2.640121   3868094.0  1.048611    0.942854  \n",
       "99998 -11.547351    446346.0  1.048611    0.960513  \n",
       "99999  -1.561821         0.0  1.048611    0.951173  \n",
       "\n",
       "[100000 rows x 18 columns]"
      ]
     },
     "execution_count": 49,
     "metadata": {},
     "output_type": "execute_result"
    }
   ],
   "source": [
    "train_data"
   ]
  },
  {
   "cell_type": "code",
   "execution_count": 50,
   "metadata": {},
   "outputs": [
    {
     "name": "stdout",
     "output_type": "stream",
     "text": [
      "18\n",
      "14\n"
     ]
    }
   ],
   "source": [
    "print(len(train_data.columns)) # label 수 4개\n",
    "print(len(test_data.columns))"
   ]
  },
  {
   "cell_type": "code",
   "execution_count": 51,
   "metadata": {},
   "outputs": [
    {
     "data": {
      "text/plain": [
       "<matplotlib.axes._subplots.AxesSubplot at 0x7f46f44d0208>"
      ]
     },
     "execution_count": 51,
     "metadata": {},
     "output_type": "execute_result"
    },
    {
     "data": {
      "image/png": "[encoded data removed]",
      "text/plain": [
       "<Figure size 432x288 with 1 Axes>"
      ]
     },
     "metadata": {
      "needs_background": "light"
     },
     "output_type": "display_data"
    }
   ],
   "source": [
    "# 데이터 형태 그래프로 확인 후 전처리 작업\n",
    "plt.figure();\n",
    "train_data[['play_time', 'game_combat_time']].boxplot()"
   ]
  },
  {
   "cell_type": "code",
   "execution_count": 52,
   "metadata": {},
   "outputs": [
    {
     "data": {
      "text/plain": [
       "<matplotlib.axes._subplots.AxesSubplot at 0x7f4649a8b860>"
      ]
     },
     "execution_count": 52,
     "metadata": {},
     "output_type": "execute_result"
    },
    {
     "data": {
      "image/png": "[encoded data removed]",
      "text/plain": [
       "<Figure size 432x288 with 1 Axes>"
      ]
     },
     "metadata": {
      "needs_background": "light"
     },
     "output_type": "display_data"
    }
   ],
   "source": [
    "train_data[['party_time']].boxplot()"
   ]
  },
  {
   "cell_type": "code",
   "execution_count": 53,
   "metadata": {},
   "outputs": [
    {
     "data": {
      "text/plain": [
       "<matplotlib.axes._subplots.AxesSubplot at 0x7f4602593b38>"
      ]
     },
     "execution_count": 53,
     "metadata": {},
     "output_type": "execute_result"
    },
    {
     "data": {
      "image/png": "[encoded data removed]",
      "text/plain": [
       "<Figure size 432x288 with 1 Axes>"
      ]
     },
     "metadata": {
      "needs_background": "light"
     },
     "output_type": "display_data"
    }
   ],
   "source": [
    "train_data[[ 'get_money', 'cnt_use_buffitem', 'gathering_cnt', 'making_cnt']].boxplot()"
   ]
  },
  {
   "cell_type": "code",
   "execution_count": 54,
   "metadata": {},
   "outputs": [
    {
     "data": {
      "text/plain": [
       "<matplotlib.axes._subplots.AxesSubplot at 0x7f461cf60d68>"
      ]
     },
     "execution_count": 54,
     "metadata": {},
     "output_type": "execute_result"
    },
    {
     "data": {
      "image/png": "[encoded data removed]",
      "text/plain": [
       "<Figure size 432x288 with 1 Axes>"
      ]
     },
     "metadata": {
      "needs_background": "light"
     },
     "output_type": "display_data"
    }
   ],
   "source": [
    "train_data[['payment_amount']].boxplot()"
   ]
  },
  {
   "cell_type": "code",
   "execution_count": 55,
   "metadata": {},
   "outputs": [
    {
     "data": {
      "text/plain": [
       "<matplotlib.axes._subplots.AxesSubplot at 0x7f462860f908>"
      ]
     },
     "execution_count": 55,
     "metadata": {},
     "output_type": "execute_result"
    },
    {
     "data": {
      "image/png": "[encoded data removed]",
      "text/plain": [
       "<Figure size 432x288 with 1 Axes>"
      ]
     },
     "metadata": {
      "needs_background": "light"
     },
     "output_type": "display_data"
    }
   ],
   "source": [
    "train_data[['winRatio', 'clearRatio',]].boxplot()"
   ]
  },
  {
   "cell_type": "code",
   "execution_count": 56,
   "metadata": {
    "scrolled": false
   },
   "outputs": [
    {
     "data": {
      "text/plain": [
       "<matplotlib.axes._subplots.AxesSubplot at 0x7f4638592358>"
      ]
     },
     "execution_count": 56,
     "metadata": {},
     "output_type": "execute_result"
    },
    {
     "data": {
      "image/png": "[encoded data removed]",
      "text/plain": [
       "<Figure size 432x288 with 1 Axes>"
      ]
     },
     "metadata": {
      "needs_background": "light"
     },
     "output_type": "display_data"
    }
   ],
   "source": [
    "train_data[['chat', 'exp']].boxplot()"
   ]
  },
  {
   "cell_type": "code",
   "execution_count": 57,
   "metadata": {},
   "outputs": [],
   "source": [
    "# 값이 너무 크거나 작은 값 제거\n",
    "train_data = train_data[train_data.play_time < 4]\n",
    "\n",
    "train_data = train_data[train_data.game_combat_time < 4]\n",
    "\n",
    "train_data = train_data[train_data.get_money < 0.5]\n",
    "\n",
    "train_data = train_data[train_data.gathering_cnt < 5]\n",
    "\n",
    "train_data = train_data[train_data.making_cnt < 3]\n",
    "\n",
    "train_data = train_data[train_data.payment_amount < -1.19]\n",
    "\n",
    "# train_data = train_data[(train_data.duel_winRatio > 0.5) & (train_data.duel_winRatio < 1.5)]\n",
    "\n",
    "# train_data = train_data[(train_data.partybattle_winRatio > 0.5) & (train_data.partybattle_winRatio < 1.5)]\n",
    "\n",
    "# train_data = train_data[(train_data.inzone_light_clearRatio > 0.5) & (train_data.inzone_light_clearRatio < 1.5)]\n",
    "\n",
    "# train_data = train_data[(train_data.inzone_solo_clearRatio > 0.5) & (train_data.inzone_solo_clearRatio < 1.5)]\n",
    "\n",
    "# train_data = train_data[(train_data.inzone_skilled_clearRatio > 0.5) & (train_data.inzone_skilled_clearRatio < 1.5)]\n",
    "\n",
    "# train_data = train_data[(train_data.inzone_light_clearRatio > 0.5) & (train_data.inzone_light_clearRatio < 1.5)]\n",
    "\n",
    "# train_data = train_data[(train_data.raid_clearRatio > 0.5) & (train_data.raid_clearRatio < 1.5)]\n",
    "\n",
    "# train_data = train_data[(train_data.raid_light_clearRatio > 0.5) & (train_data.raid_light_clearRatio < 1.5)]\n",
    "\n",
    "train_data = train_data[train_data.chat <= 5]\n",
    "\n",
    "train_data = train_data[train_data.exp < 10]\n",
    "\n",
    "train_data = train_data[train_data.party_time < 232200]\n",
    "\n",
    "train_data = train_data[(train_data.winRatio > -1.5) & (train_data.winRatio < 1.5)]\n",
    "\n",
    "train_data = train_data[(train_data.clearRatio > -1.5) & (train_data.clearRatio < 1.5)]"
   ]
  },
  {
   "cell_type": "code",
   "execution_count": 58,
   "metadata": {},
   "outputs": [],
   "source": [
    "train_data_nomal = train_data\n",
    "test_data_nomal = test_data"
   ]
  },
  {
   "cell_type": "code",
   "execution_count": 59,
   "metadata": {
    "scrolled": true
   },
   "outputs": [],
   "source": [
    "# Scaling vs Normalization\n",
    "# ref: https://www.kaggle.com/rtatman/data-cleaning-challenge-scale-and-normalize-data\n",
    "\n",
    "# StandardScaler: 기본 스케일. 평균과 표준편차 사용\n",
    "# MinMaxScaler: 최대/최소값이 각각 1, 0이 되도록 스케일링\n",
    "# Nomalizer: 데이터의 분포를 바꾸는 것\n",
    "\n",
    "# 이전에 사용했던 컬럼\n",
    "# preprocess_col = ['play_time', 'game_combat_time', 'get_money', 'cnt_use_buffitem', 'gathering_cnt', 'making_cnt','payment_amount', \n",
    "#  'duel_winRatio', 'partybattle_winRatio', 'inzone_solo_clearRatio','inzone_light_clearRatio', 'inzone_skilled_clearRatio', \n",
    "#  'raid_clearRatio', 'raid_light_clearRatio', 'bam_clearRatio', 'chat', 'exp', 'party_time']\n",
    "\n",
    "preprocess_col = ['play_time', 'game_combat_time', 'get_money', 'cnt_use_buffitem', 'gathering_cnt', 'making_cnt','payment_amount', \n",
    " 'winRatio', 'clearRatio', 'chat', 'exp', 'party_time']\n",
    "\n",
    "# scale = StandardScaler()\n",
    "# scale.fit(train_data[preprocess_col])\n",
    "# train_data_nomal[preprocess_col] = scale.transform(train_data[preprocess_col]) \n",
    "# test_data_nomal[preprocess_col] = scale.transform(test_data[preprocess_col])\n",
    "\n",
    "# scale = MinMaxScaler()\n",
    "# scale.fit(train_data[preprocess_col])\n",
    "# train_data_nomal[preprocess_col] = scale.transform(train_data[preprocess_col]) \n",
    "# test_data_nomal[preprocess_col] = scale.transform(test_data[preprocess_col])\n",
    "\n",
    "# ref: http://scikit-learn.org/stable/modules/generated/sklearn.preprocessing.Normalizer.html#sklearn.preprocessing.Normalizer\n",
    "\n",
    "nomal = Normalizer()\n",
    "nomal.fit(train_data[preprocess_col])\n",
    "train_data_nomal[preprocess_col] = nomal.transform(train_data[preprocess_col]) \n",
    "test_data_nomal[preprocess_col] = nomal.transform(test_data[preprocess_col])"
   ]
  },
  {
   "cell_type": "code",
   "execution_count": 60,
   "metadata": {},
   "outputs": [
    {
     "data": {
      "text/plain": [
       "<matplotlib.axes._subplots.AxesSubplot at 0x7f464aacfa90>"
      ]
     },
     "execution_count": 60,
     "metadata": {},
     "output_type": "execute_result"
    },
    {
     "data": {
      "image/png": "[encoded data removed]",
      "text/plain": [
       "<Figure size 432x288 with 1 Axes>"
      ]
     },
     "metadata": {
      "needs_background": "light"
     },
     "output_type": "display_data"
    }
   ],
   "source": [
    "# 노이즈한 데이터 제거 후 그래프로 확인\n",
    "plt.figure();\n",
    "train_data_nomal[['play_time', 'game_combat_time']].boxplot()"
   ]
  },
  {
   "cell_type": "code",
   "execution_count": 61,
   "metadata": {},
   "outputs": [
    {
     "data": {
      "text/plain": [
       "<matplotlib.axes._subplots.AxesSubplot at 0x7f4604daf710>"
      ]
     },
     "execution_count": 61,
     "metadata": {},
     "output_type": "execute_result"
    },
    {
     "data": {
      "image/png": "[encoded data removed]",
      "text/plain": [
       "<Figure size 432x288 with 1 Axes>"
      ]
     },
     "metadata": {
      "needs_background": "light"
     },
     "output_type": "display_data"
    }
   ],
   "source": [
    "train_data_nomal[['party_time']].boxplot()"
   ]
  },
  {
   "cell_type": "code",
   "execution_count": 62,
   "metadata": {},
   "outputs": [
    {
     "data": {
      "text/plain": [
       "<matplotlib.axes._subplots.AxesSubplot at 0x7f460f3aff98>"
      ]
     },
     "execution_count": 62,
     "metadata": {},
     "output_type": "execute_result"
    },
    {
     "data": {
      "image/png": "[encoded data removed]",
      "text/plain": [
       "<Figure size 432x288 with 1 Axes>"
      ]
     },
     "metadata": {
      "needs_background": "light"
     },
     "output_type": "display_data"
    }
   ],
   "source": [
    "train_data_nomal[[ 'get_money', 'cnt_use_buffitem', 'gathering_cnt', 'making_cnt']].boxplot()"
   ]
  },
  {
   "cell_type": "code",
   "execution_count": 63,
   "metadata": {},
   "outputs": [
    {
     "data": {
      "text/plain": [
       "<matplotlib.axes._subplots.AxesSubplot at 0x7f461eb08518>"
      ]
     },
     "execution_count": 63,
     "metadata": {},
     "output_type": "execute_result"
    },
    {
     "data": {
      "image/png": "[encoded data removed]",
      "text/plain": [
       "<Figure size 432x288 with 1 Axes>"
      ]
     },
     "metadata": {
      "needs_background": "light"
     },
     "output_type": "display_data"
    }
   ],
   "source": [
    "train_data_nomal[['payment_amount']].boxplot()"
   ]
  },
  {
   "cell_type": "code",
   "execution_count": 64,
   "metadata": {},
   "outputs": [
    {
     "data": {
      "text/plain": [
       "<matplotlib.axes._subplots.AxesSubplot at 0x7f4628c1b6d8>"
      ]
     },
     "execution_count": 64,
     "metadata": {},
     "output_type": "execute_result"
    },
    {
     "data": {
      "image/png": "[encoded data removed]",
      "text/plain": [
       "<Figure size 432x288 with 1 Axes>"
      ]
     },
     "metadata": {
      "needs_background": "light"
     },
     "output_type": "display_data"
    }
   ],
   "source": [
    "train_data_nomal[['winRatio', 'clearRatio',]].boxplot()"
   ]
  },
  {
   "cell_type": "code",
   "execution_count": 65,
   "metadata": {
    "scrolled": true
   },
   "outputs": [
    {
     "data": {
      "text/plain": [
       "<matplotlib.axes._subplots.AxesSubplot at 0x7f4633c7f908>"
      ]
     },
     "execution_count": 65,
     "metadata": {},
     "output_type": "execute_result"
    },
    {
     "data": {
      "image/png": "[encoded data removed]",
      "text/plain": [
       "<Figure size 432x288 with 1 Axes>"
      ]
     },
     "metadata": {
      "needs_background": "light"
     },
     "output_type": "display_data"
    }
   ],
   "source": [
    "train_data_nomal[['chat', 'exp']].boxplot()"
   ]
  },
  {
   "cell_type": "code",
   "execution_count": 66,
   "metadata": {},
   "outputs": [
    {
     "data": {
      "text/plain": [
       "(array([1.5940e+03, 4.2660e+04, 5.8300e+02, 2.1822e+04, 6.4000e+01,\n",
       "        3.0000e+01, 1.3000e+01, 4.0000e+00, 6.0000e+00, 6.0000e+00]),\n",
       " array([-0.4418651 , -0.32506275, -0.20826041, -0.09145806,  0.02534428,\n",
       "         0.14214663,  0.25894897,  0.37575132,  0.49255366,  0.60935601,\n",
       "         0.72615835]),\n",
       " <a list of 10 Patch objects>)"
      ]
     },
     "execution_count": 66,
     "metadata": {},
     "output_type": "execute_result"
    },
    {
     "data": {
      "image/png": "[encoded data removed]",
      "text/plain": [
       "<Figure size 432x288 with 1 Axes>"
      ]
     },
     "metadata": {
      "needs_background": "light"
     },
     "output_type": "display_data"
    }
   ],
   "source": [
    "plt.hist(train_data_nomal['play_time'])"
   ]
  },
  {
   "cell_type": "code",
   "execution_count": 67,
   "metadata": {},
   "outputs": [
    {
     "data": {
      "text/plain": [
       "Index(['acc_id', 'guild', 'play_time', 'game_combat_time', 'get_money',\n",
       "       'cnt_use_buffitem', 'gathering_cnt', 'making_cnt', 'payment_amount',\n",
       "       '2month', 'month', 'retained', 'week', 'chat', 'exp', 'party_time',\n",
       "       'winRatio', 'clearRatio'],\n",
       "      dtype='object')"
      ]
     },
     "execution_count": 67,
     "metadata": {},
     "output_type": "execute_result"
    }
   ],
   "source": [
    "train_data_nomal.columns"
   ]
  },
  {
   "cell_type": "code",
   "execution_count": 68,
   "metadata": {},
   "outputs": [],
   "source": [
    "train_data_save = train_data_nomal\n",
    "test_data_save = test_data_nomal"
   ]
  },
  {
   "cell_type": "code",
   "execution_count": 69,
   "metadata": {},
   "outputs": [],
   "source": [
    "# train_data_save = train_data_nomal.drop(columns=[ 'get_money', 'cnt_use_buffitem', 'gathering_cnt', 'making_cnt', 'party_time'])\n",
    "# test_data_save = test_data_nomal.drop(columns=[ 'get_money', 'cnt_use_buffitem', 'gathering_cnt', 'making_cnt', 'party_time'])\n",
    "\n",
    "train_data_save = train_data_nomal.drop(columns=[ 'party_time'])\n",
    "test_data_save = test_data_nomal.drop(columns=[ 'party_time'])"
   ]
  },
  {
   "cell_type": "code",
   "execution_count": 70,
   "metadata": {},
   "outputs": [],
   "source": [
    "train_data_save.to_csv('./train/train_data.csv', index=False)"
   ]
  },
  {
   "cell_type": "code",
   "execution_count": 71,
   "metadata": {},
   "outputs": [],
   "source": [
    "test_data_save.to_csv('./test/test_data.csv', index=False)"
   ]
  }
 ],
 "metadata": {
  "kernelspec": {
   "display_name": "Python 3",
   "language": "python",
   "name": "python3"
  },
  "language_info": {
   "codemirror_mode": {
    "name": "ipython",
    "version": 3
   },
   "file_extension": ".py",
   "mimetype": "text/x-python",
   "name": "python",
   "nbconvert_exporter": "python",
   "pygments_lexer": "ipython3",
   "version": "3.6.5"
  }
 },
 "nbformat": 4,
 "nbformat_minor": 2
}
